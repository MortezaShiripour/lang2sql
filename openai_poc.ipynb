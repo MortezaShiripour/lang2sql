{
 "cells": [
  {
   "cell_type": "markdown",
   "metadata": {},
   "source": [
    "# Data\n",
    "\n",
    "Loading and appending the Chicago Crime dataset"
   ]
  },
  {
   "cell_type": "code",
   "execution_count": 4,
   "metadata": {},
   "outputs": [],
   "source": [
    "import pandas as pd\n",
    "import duckdb\n",
    "import openai\n",
    "import time \n",
    "import os"
   ]
  },
  {
   "cell_type": "markdown",
   "metadata": {},
   "source": [
    "Set the path of the CSV files:"
   ]
  },
  {
   "cell_type": "code",
   "execution_count": 5,
   "metadata": {},
   "outputs": [
    {
     "name": "stdout",
     "output_type": "stream",
     "text": [
      "['chicago_crime_2022.csv', 'chicago_crime_2023.csv', 'chicago_crime_2021.csv']\n"
     ]
    }
   ],
   "source": [
    "path = \"./data\"\n",
    "\n",
    "files = [x for x in os.listdir(path = path) if \".csv\" in x]\n",
    "\n",
    "print(files)"
   ]
  },
  {
   "cell_type": "code",
   "execution_count": 6,
   "metadata": {},
   "outputs": [
    {
     "data": {
      "text/plain": [
       "<bound method NDFrame.head of               ID Case Number                    Date                   Block   \n",
       "0       12589893    JF109865  01/11/2022 03:00:00 PM    087XX S KINGSTON AVE  \\\n",
       "1       12592454    JF113025  01/14/2022 03:55:00 PM       067XX S MORGAN ST   \n",
       "2       12601676    JF124024  01/13/2022 04:00:00 PM    031XX W AUGUSTA BLVD   \n",
       "3       12785595    JF346553  08/05/2022 09:00:00 PM  072XX S UNIVERSITY AVE   \n",
       "4       12808281    JF373517  08/14/2022 02:00:00 PM     055XX W ARDMORE AVE   \n",
       "...          ...         ...                     ...                     ...   \n",
       "648826     26461    JE455267  11/24/2021 12:51:00 AM     107XX S LANGLEY AVE   \n",
       "648827     26041    JE281927  06/28/2021 01:12:00 AM       117XX S LAFLIN ST   \n",
       "648828     26238    JE353715  08/29/2021 03:07:00 AM    010XX N LAWNDALE AVE   \n",
       "648829     26479    JE465230  12/03/2021 08:37:00 PM         000XX W 78TH PL   \n",
       "648830  11138622    JA495186  05/21/2021 12:01:00 AM      019XX N PULASKI RD   \n",
       "\n",
       "        IUCR                Primary Type   \n",
       "0       1565                 SEX OFFENSE  \\\n",
       "1       2826               OTHER OFFENSE   \n",
       "2       1752  OFFENSE INVOLVING CHILDREN   \n",
       "3       1544                 SEX OFFENSE   \n",
       "4       1562                 SEX OFFENSE   \n",
       "...      ...                         ...   \n",
       "648826  0110                    HOMICIDE   \n",
       "648827  0110                    HOMICIDE   \n",
       "648828  0110                    HOMICIDE   \n",
       "648829  0110                    HOMICIDE   \n",
       "648830  1752  OFFENSE INVOLVING CHILDREN   \n",
       "\n",
       "                                              Description   \n",
       "0                        INDECENT SOLICITATION OF A CHILD  \\\n",
       "1                          HARASSMENT BY ELECTRONIC MEANS   \n",
       "2       AGGRAVATED CRIMINAL SEXUAL ABUSE BY FAMILY MEMBER   \n",
       "3                          SEXUAL EXPLOITATION OF A CHILD   \n",
       "4                        AGGRAVATED CRIMINAL SEXUAL ABUSE   \n",
       "...                                                   ...   \n",
       "648826                                FIRST DEGREE MURDER   \n",
       "648827                                FIRST DEGREE MURDER   \n",
       "648828                                FIRST DEGREE MURDER   \n",
       "648829                                FIRST DEGREE MURDER   \n",
       "648830  AGGRAVATED CRIMINAL SEXUAL ABUSE BY FAMILY MEMBER   \n",
       "\n",
       "       Location Description  Arrest  Domestic  ...  Ward  Community Area   \n",
       "0                 RESIDENCE   False      True  ...   7.0              46  \\\n",
       "1                 RESIDENCE   False      True  ...  16.0              68   \n",
       "2                 RESIDENCE   False      True  ...  36.0              23   \n",
       "3                 APARTMENT    True     False  ...   5.0              69   \n",
       "4                 RESIDENCE   False     False  ...  39.0              11   \n",
       "...                     ...     ...       ...  ...   ...             ...   \n",
       "648826           VACANT LOT   False     False  ...   9.0              50   \n",
       "648827                 AUTO   False     False  ...  34.0              53   \n",
       "648828               STREET   False     False  ...  27.0              23   \n",
       "648829                PORCH    True     False  ...   6.0              69   \n",
       "648830            RESIDENCE   False      True  ...  35.0              20   \n",
       "\n",
       "        FBI Code  X Coordinate Y Coordinate  Year              Updated On   \n",
       "0             17     1194660.0    1847481.0  2022  09/14/2023 03:41:59 PM  \\\n",
       "1             26     1170805.0    1860170.0  2022  09/14/2023 03:41:59 PM   \n",
       "2             17     1155171.0    1906486.0  2022  09/14/2023 03:41:59 PM   \n",
       "3             17     1185135.0    1857211.0  2022  09/14/2023 03:41:59 PM   \n",
       "4             17     1138383.0    1937953.0  2022  09/14/2023 03:41:59 PM   \n",
       "...          ...           ...          ...   ...                     ...   \n",
       "648826       01A     1182822.0    1833730.0  2021  09/19/2022 03:41:05 PM   \n",
       "648827       01A     1168442.0    1826982.0  2021  09/01/2022 03:42:17 PM   \n",
       "648828       01A     1151525.0    1906643.0  2021  09/19/2022 03:41:05 PM   \n",
       "648829       01A     1177156.0    1852951.0  2021  09/01/2022 03:42:17 PM   \n",
       "648830        17     1149406.0    1912491.0  2021  09/07/2021 03:41:02 PM   \n",
       "\n",
       "         Latitude  Longitude                       Location  \n",
       "0       41.736409 -87.562410  (41.736409029, -87.562410309)  \n",
       "1       41.771782 -87.649437  (41.771782439, -87.649436929)  \n",
       "2       41.899206 -87.705506  (41.899206068, -87.705505587)  \n",
       "3       41.763338 -87.597001  (41.763337967, -87.597001131)  \n",
       "4       41.985875 -87.766404  (41.985875279, -87.766403857)  \n",
       "...           ...        ...                            ...  \n",
       "648826  41.698957 -87.606206  (41.698957409, -87.606205674)  \n",
       "648827  41.680761 -87.659052  (41.680760863, -87.659051873)  \n",
       "648828  41.899709 -87.718893  (41.899709327, -87.718893208)  \n",
       "648829  41.751832 -87.626374  (41.751831742, -87.626373808)  \n",
       "648830  41.915798 -87.726524  (41.915798196, -87.726524412)  \n",
       "\n",
       "[648831 rows x 22 columns]>"
      ]
     },
     "execution_count": 6,
     "metadata": {},
     "output_type": "execute_result"
    }
   ],
   "source": [
    "chicago_crime = pd.concat((pd.read_csv(path +\"/\" + f) for f in files), ignore_index=True)\n",
    "\n",
    "chicago_crime.head"
   ]
  },
  {
   "cell_type": "code",
   "execution_count": 7,
   "metadata": {},
   "outputs": [
    {
     "data": {
      "text/html": [
       "<div>\n",
       "<style scoped>\n",
       "    .dataframe tbody tr th:only-of-type {\n",
       "        vertical-align: middle;\n",
       "    }\n",
       "\n",
       "    .dataframe tbody tr th {\n",
       "        vertical-align: top;\n",
       "    }\n",
       "\n",
       "    .dataframe thead th {\n",
       "        text-align: right;\n",
       "    }\n",
       "</style>\n",
       "<table border=\"1\" class=\"dataframe\">\n",
       "  <thead>\n",
       "    <tr style=\"text-align: right;\">\n",
       "      <th></th>\n",
       "      <th>ID</th>\n",
       "      <th>Case Number</th>\n",
       "      <th>Date</th>\n",
       "      <th>Block</th>\n",
       "      <th>IUCR</th>\n",
       "      <th>Primary Type</th>\n",
       "      <th>Description</th>\n",
       "      <th>Location Description</th>\n",
       "      <th>Arrest</th>\n",
       "      <th>Domestic</th>\n",
       "      <th>...</th>\n",
       "      <th>Ward</th>\n",
       "      <th>Community Area</th>\n",
       "      <th>FBI Code</th>\n",
       "      <th>X Coordinate</th>\n",
       "      <th>Y Coordinate</th>\n",
       "      <th>Year</th>\n",
       "      <th>Updated On</th>\n",
       "      <th>Latitude</th>\n",
       "      <th>Longitude</th>\n",
       "      <th>Location</th>\n",
       "    </tr>\n",
       "  </thead>\n",
       "  <tbody>\n",
       "    <tr>\n",
       "      <th>0</th>\n",
       "      <td>12589893</td>\n",
       "      <td>JF109865</td>\n",
       "      <td>01/11/2022 03:00:00 PM</td>\n",
       "      <td>087XX S KINGSTON AVE</td>\n",
       "      <td>1565</td>\n",
       "      <td>SEX OFFENSE</td>\n",
       "      <td>INDECENT SOLICITATION OF A CHILD</td>\n",
       "      <td>RESIDENCE</td>\n",
       "      <td>False</td>\n",
       "      <td>True</td>\n",
       "      <td>...</td>\n",
       "      <td>7.0</td>\n",
       "      <td>46</td>\n",
       "      <td>17</td>\n",
       "      <td>1194660.0</td>\n",
       "      <td>1847481.0</td>\n",
       "      <td>2022</td>\n",
       "      <td>09/14/2023 03:41:59 PM</td>\n",
       "      <td>41.736409</td>\n",
       "      <td>-87.562410</td>\n",
       "      <td>(41.736409029, -87.562410309)</td>\n",
       "    </tr>\n",
       "    <tr>\n",
       "      <th>1</th>\n",
       "      <td>12592454</td>\n",
       "      <td>JF113025</td>\n",
       "      <td>01/14/2022 03:55:00 PM</td>\n",
       "      <td>067XX S MORGAN ST</td>\n",
       "      <td>2826</td>\n",
       "      <td>OTHER OFFENSE</td>\n",
       "      <td>HARASSMENT BY ELECTRONIC MEANS</td>\n",
       "      <td>RESIDENCE</td>\n",
       "      <td>False</td>\n",
       "      <td>True</td>\n",
       "      <td>...</td>\n",
       "      <td>16.0</td>\n",
       "      <td>68</td>\n",
       "      <td>26</td>\n",
       "      <td>1170805.0</td>\n",
       "      <td>1860170.0</td>\n",
       "      <td>2022</td>\n",
       "      <td>09/14/2023 03:41:59 PM</td>\n",
       "      <td>41.771782</td>\n",
       "      <td>-87.649437</td>\n",
       "      <td>(41.771782439, -87.649436929)</td>\n",
       "    </tr>\n",
       "    <tr>\n",
       "      <th>2</th>\n",
       "      <td>12601676</td>\n",
       "      <td>JF124024</td>\n",
       "      <td>01/13/2022 04:00:00 PM</td>\n",
       "      <td>031XX W AUGUSTA BLVD</td>\n",
       "      <td>1752</td>\n",
       "      <td>OFFENSE INVOLVING CHILDREN</td>\n",
       "      <td>AGGRAVATED CRIMINAL SEXUAL ABUSE BY FAMILY MEMBER</td>\n",
       "      <td>RESIDENCE</td>\n",
       "      <td>False</td>\n",
       "      <td>True</td>\n",
       "      <td>...</td>\n",
       "      <td>36.0</td>\n",
       "      <td>23</td>\n",
       "      <td>17</td>\n",
       "      <td>1155171.0</td>\n",
       "      <td>1906486.0</td>\n",
       "      <td>2022</td>\n",
       "      <td>09/14/2023 03:41:59 PM</td>\n",
       "      <td>41.899206</td>\n",
       "      <td>-87.705506</td>\n",
       "      <td>(41.899206068, -87.705505587)</td>\n",
       "    </tr>\n",
       "    <tr>\n",
       "      <th>3</th>\n",
       "      <td>12785595</td>\n",
       "      <td>JF346553</td>\n",
       "      <td>08/05/2022 09:00:00 PM</td>\n",
       "      <td>072XX S UNIVERSITY AVE</td>\n",
       "      <td>1544</td>\n",
       "      <td>SEX OFFENSE</td>\n",
       "      <td>SEXUAL EXPLOITATION OF A CHILD</td>\n",
       "      <td>APARTMENT</td>\n",
       "      <td>True</td>\n",
       "      <td>False</td>\n",
       "      <td>...</td>\n",
       "      <td>5.0</td>\n",
       "      <td>69</td>\n",
       "      <td>17</td>\n",
       "      <td>1185135.0</td>\n",
       "      <td>1857211.0</td>\n",
       "      <td>2022</td>\n",
       "      <td>09/14/2023 03:41:59 PM</td>\n",
       "      <td>41.763338</td>\n",
       "      <td>-87.597001</td>\n",
       "      <td>(41.763337967, -87.597001131)</td>\n",
       "    </tr>\n",
       "    <tr>\n",
       "      <th>4</th>\n",
       "      <td>12808281</td>\n",
       "      <td>JF373517</td>\n",
       "      <td>08/14/2022 02:00:00 PM</td>\n",
       "      <td>055XX W ARDMORE AVE</td>\n",
       "      <td>1562</td>\n",
       "      <td>SEX OFFENSE</td>\n",
       "      <td>AGGRAVATED CRIMINAL SEXUAL ABUSE</td>\n",
       "      <td>RESIDENCE</td>\n",
       "      <td>False</td>\n",
       "      <td>False</td>\n",
       "      <td>...</td>\n",
       "      <td>39.0</td>\n",
       "      <td>11</td>\n",
       "      <td>17</td>\n",
       "      <td>1138383.0</td>\n",
       "      <td>1937953.0</td>\n",
       "      <td>2022</td>\n",
       "      <td>09/14/2023 03:41:59 PM</td>\n",
       "      <td>41.985875</td>\n",
       "      <td>-87.766404</td>\n",
       "      <td>(41.985875279, -87.766403857)</td>\n",
       "    </tr>\n",
       "    <tr>\n",
       "      <th>...</th>\n",
       "      <td>...</td>\n",
       "      <td>...</td>\n",
       "      <td>...</td>\n",
       "      <td>...</td>\n",
       "      <td>...</td>\n",
       "      <td>...</td>\n",
       "      <td>...</td>\n",
       "      <td>...</td>\n",
       "      <td>...</td>\n",
       "      <td>...</td>\n",
       "      <td>...</td>\n",
       "      <td>...</td>\n",
       "      <td>...</td>\n",
       "      <td>...</td>\n",
       "      <td>...</td>\n",
       "      <td>...</td>\n",
       "      <td>...</td>\n",
       "      <td>...</td>\n",
       "      <td>...</td>\n",
       "      <td>...</td>\n",
       "      <td>...</td>\n",
       "    </tr>\n",
       "    <tr>\n",
       "      <th>648826</th>\n",
       "      <td>26461</td>\n",
       "      <td>JE455267</td>\n",
       "      <td>11/24/2021 12:51:00 AM</td>\n",
       "      <td>107XX S LANGLEY AVE</td>\n",
       "      <td>0110</td>\n",
       "      <td>HOMICIDE</td>\n",
       "      <td>FIRST DEGREE MURDER</td>\n",
       "      <td>VACANT LOT</td>\n",
       "      <td>False</td>\n",
       "      <td>False</td>\n",
       "      <td>...</td>\n",
       "      <td>9.0</td>\n",
       "      <td>50</td>\n",
       "      <td>01A</td>\n",
       "      <td>1182822.0</td>\n",
       "      <td>1833730.0</td>\n",
       "      <td>2021</td>\n",
       "      <td>09/19/2022 03:41:05 PM</td>\n",
       "      <td>41.698957</td>\n",
       "      <td>-87.606206</td>\n",
       "      <td>(41.698957409, -87.606205674)</td>\n",
       "    </tr>\n",
       "    <tr>\n",
       "      <th>648827</th>\n",
       "      <td>26041</td>\n",
       "      <td>JE281927</td>\n",
       "      <td>06/28/2021 01:12:00 AM</td>\n",
       "      <td>117XX S LAFLIN ST</td>\n",
       "      <td>0110</td>\n",
       "      <td>HOMICIDE</td>\n",
       "      <td>FIRST DEGREE MURDER</td>\n",
       "      <td>AUTO</td>\n",
       "      <td>False</td>\n",
       "      <td>False</td>\n",
       "      <td>...</td>\n",
       "      <td>34.0</td>\n",
       "      <td>53</td>\n",
       "      <td>01A</td>\n",
       "      <td>1168442.0</td>\n",
       "      <td>1826982.0</td>\n",
       "      <td>2021</td>\n",
       "      <td>09/01/2022 03:42:17 PM</td>\n",
       "      <td>41.680761</td>\n",
       "      <td>-87.659052</td>\n",
       "      <td>(41.680760863, -87.659051873)</td>\n",
       "    </tr>\n",
       "    <tr>\n",
       "      <th>648828</th>\n",
       "      <td>26238</td>\n",
       "      <td>JE353715</td>\n",
       "      <td>08/29/2021 03:07:00 AM</td>\n",
       "      <td>010XX N LAWNDALE AVE</td>\n",
       "      <td>0110</td>\n",
       "      <td>HOMICIDE</td>\n",
       "      <td>FIRST DEGREE MURDER</td>\n",
       "      <td>STREET</td>\n",
       "      <td>False</td>\n",
       "      <td>False</td>\n",
       "      <td>...</td>\n",
       "      <td>27.0</td>\n",
       "      <td>23</td>\n",
       "      <td>01A</td>\n",
       "      <td>1151525.0</td>\n",
       "      <td>1906643.0</td>\n",
       "      <td>2021</td>\n",
       "      <td>09/19/2022 03:41:05 PM</td>\n",
       "      <td>41.899709</td>\n",
       "      <td>-87.718893</td>\n",
       "      <td>(41.899709327, -87.718893208)</td>\n",
       "    </tr>\n",
       "    <tr>\n",
       "      <th>648829</th>\n",
       "      <td>26479</td>\n",
       "      <td>JE465230</td>\n",
       "      <td>12/03/2021 08:37:00 PM</td>\n",
       "      <td>000XX W 78TH PL</td>\n",
       "      <td>0110</td>\n",
       "      <td>HOMICIDE</td>\n",
       "      <td>FIRST DEGREE MURDER</td>\n",
       "      <td>PORCH</td>\n",
       "      <td>True</td>\n",
       "      <td>False</td>\n",
       "      <td>...</td>\n",
       "      <td>6.0</td>\n",
       "      <td>69</td>\n",
       "      <td>01A</td>\n",
       "      <td>1177156.0</td>\n",
       "      <td>1852951.0</td>\n",
       "      <td>2021</td>\n",
       "      <td>09/01/2022 03:42:17 PM</td>\n",
       "      <td>41.751832</td>\n",
       "      <td>-87.626374</td>\n",
       "      <td>(41.751831742, -87.626373808)</td>\n",
       "    </tr>\n",
       "    <tr>\n",
       "      <th>648830</th>\n",
       "      <td>11138622</td>\n",
       "      <td>JA495186</td>\n",
       "      <td>05/21/2021 12:01:00 AM</td>\n",
       "      <td>019XX N PULASKI RD</td>\n",
       "      <td>1752</td>\n",
       "      <td>OFFENSE INVOLVING CHILDREN</td>\n",
       "      <td>AGGRAVATED CRIMINAL SEXUAL ABUSE BY FAMILY MEMBER</td>\n",
       "      <td>RESIDENCE</td>\n",
       "      <td>False</td>\n",
       "      <td>True</td>\n",
       "      <td>...</td>\n",
       "      <td>35.0</td>\n",
       "      <td>20</td>\n",
       "      <td>17</td>\n",
       "      <td>1149406.0</td>\n",
       "      <td>1912491.0</td>\n",
       "      <td>2021</td>\n",
       "      <td>09/07/2021 03:41:02 PM</td>\n",
       "      <td>41.915798</td>\n",
       "      <td>-87.726524</td>\n",
       "      <td>(41.915798196, -87.726524412)</td>\n",
       "    </tr>\n",
       "  </tbody>\n",
       "</table>\n",
       "<p>648831 rows × 22 columns</p>\n",
       "</div>"
      ],
      "text/plain": [
       "              ID Case Number                    Date                   Block   \n",
       "0       12589893    JF109865  01/11/2022 03:00:00 PM    087XX S KINGSTON AVE  \\\n",
       "1       12592454    JF113025  01/14/2022 03:55:00 PM       067XX S MORGAN ST   \n",
       "2       12601676    JF124024  01/13/2022 04:00:00 PM    031XX W AUGUSTA BLVD   \n",
       "3       12785595    JF346553  08/05/2022 09:00:00 PM  072XX S UNIVERSITY AVE   \n",
       "4       12808281    JF373517  08/14/2022 02:00:00 PM     055XX W ARDMORE AVE   \n",
       "...          ...         ...                     ...                     ...   \n",
       "648826     26461    JE455267  11/24/2021 12:51:00 AM     107XX S LANGLEY AVE   \n",
       "648827     26041    JE281927  06/28/2021 01:12:00 AM       117XX S LAFLIN ST   \n",
       "648828     26238    JE353715  08/29/2021 03:07:00 AM    010XX N LAWNDALE AVE   \n",
       "648829     26479    JE465230  12/03/2021 08:37:00 PM         000XX W 78TH PL   \n",
       "648830  11138622    JA495186  05/21/2021 12:01:00 AM      019XX N PULASKI RD   \n",
       "\n",
       "        IUCR                Primary Type   \n",
       "0       1565                 SEX OFFENSE  \\\n",
       "1       2826               OTHER OFFENSE   \n",
       "2       1752  OFFENSE INVOLVING CHILDREN   \n",
       "3       1544                 SEX OFFENSE   \n",
       "4       1562                 SEX OFFENSE   \n",
       "...      ...                         ...   \n",
       "648826  0110                    HOMICIDE   \n",
       "648827  0110                    HOMICIDE   \n",
       "648828  0110                    HOMICIDE   \n",
       "648829  0110                    HOMICIDE   \n",
       "648830  1752  OFFENSE INVOLVING CHILDREN   \n",
       "\n",
       "                                              Description   \n",
       "0                        INDECENT SOLICITATION OF A CHILD  \\\n",
       "1                          HARASSMENT BY ELECTRONIC MEANS   \n",
       "2       AGGRAVATED CRIMINAL SEXUAL ABUSE BY FAMILY MEMBER   \n",
       "3                          SEXUAL EXPLOITATION OF A CHILD   \n",
       "4                        AGGRAVATED CRIMINAL SEXUAL ABUSE   \n",
       "...                                                   ...   \n",
       "648826                                FIRST DEGREE MURDER   \n",
       "648827                                FIRST DEGREE MURDER   \n",
       "648828                                FIRST DEGREE MURDER   \n",
       "648829                                FIRST DEGREE MURDER   \n",
       "648830  AGGRAVATED CRIMINAL SEXUAL ABUSE BY FAMILY MEMBER   \n",
       "\n",
       "       Location Description  Arrest  Domestic  ...  Ward  Community Area   \n",
       "0                 RESIDENCE   False      True  ...   7.0              46  \\\n",
       "1                 RESIDENCE   False      True  ...  16.0              68   \n",
       "2                 RESIDENCE   False      True  ...  36.0              23   \n",
       "3                 APARTMENT    True     False  ...   5.0              69   \n",
       "4                 RESIDENCE   False     False  ...  39.0              11   \n",
       "...                     ...     ...       ...  ...   ...             ...   \n",
       "648826           VACANT LOT   False     False  ...   9.0              50   \n",
       "648827                 AUTO   False     False  ...  34.0              53   \n",
       "648828               STREET   False     False  ...  27.0              23   \n",
       "648829                PORCH    True     False  ...   6.0              69   \n",
       "648830            RESIDENCE   False      True  ...  35.0              20   \n",
       "\n",
       "        FBI Code  X Coordinate Y Coordinate  Year              Updated On   \n",
       "0             17     1194660.0    1847481.0  2022  09/14/2023 03:41:59 PM  \\\n",
       "1             26     1170805.0    1860170.0  2022  09/14/2023 03:41:59 PM   \n",
       "2             17     1155171.0    1906486.0  2022  09/14/2023 03:41:59 PM   \n",
       "3             17     1185135.0    1857211.0  2022  09/14/2023 03:41:59 PM   \n",
       "4             17     1138383.0    1937953.0  2022  09/14/2023 03:41:59 PM   \n",
       "...          ...           ...          ...   ...                     ...   \n",
       "648826       01A     1182822.0    1833730.0  2021  09/19/2022 03:41:05 PM   \n",
       "648827       01A     1168442.0    1826982.0  2021  09/01/2022 03:42:17 PM   \n",
       "648828       01A     1151525.0    1906643.0  2021  09/19/2022 03:41:05 PM   \n",
       "648829       01A     1177156.0    1852951.0  2021  09/01/2022 03:42:17 PM   \n",
       "648830        17     1149406.0    1912491.0  2021  09/07/2021 03:41:02 PM   \n",
       "\n",
       "         Latitude  Longitude                       Location  \n",
       "0       41.736409 -87.562410  (41.736409029, -87.562410309)  \n",
       "1       41.771782 -87.649437  (41.771782439, -87.649436929)  \n",
       "2       41.899206 -87.705506  (41.899206068, -87.705505587)  \n",
       "3       41.763338 -87.597001  (41.763337967, -87.597001131)  \n",
       "4       41.985875 -87.766404  (41.985875279, -87.766403857)  \n",
       "...           ...        ...                            ...  \n",
       "648826  41.698957 -87.606206  (41.698957409, -87.606205674)  \n",
       "648827  41.680761 -87.659052  (41.680760863, -87.659051873)  \n",
       "648828  41.899709 -87.718893  (41.899709327, -87.718893208)  \n",
       "648829  41.751832 -87.626374  (41.751831742, -87.626373808)  \n",
       "648830  41.915798 -87.726524  (41.915798196, -87.726524412)  \n",
       "\n",
       "[648831 rows x 22 columns]"
      ]
     },
     "execution_count": 7,
     "metadata": {},
     "output_type": "execute_result"
    }
   ],
   "source": [
    "chicago_crime"
   ]
  },
  {
   "cell_type": "markdown",
   "metadata": {},
   "source": [
    "Source: https://platform.openai.com/examples/default-sql-translate"
   ]
  },
  {
   "cell_type": "code",
   "execution_count": 8,
   "metadata": {},
   "outputs": [],
   "source": [
    "prompt_template = \"\"\"\n",
    "\n",
    "Given the following SQL table, your job is to write queries given a user’s request. \\n\n",
    "\n",
    "CREATE TABLE {} ({}) \\n\n",
    "\n",
    "Write a SQL query that returns - {}\n",
    "\"\"\""
   ]
  },
  {
   "cell_type": "code",
   "execution_count": 9,
   "metadata": {},
   "outputs": [],
   "source": [
    "def sql_prompt_generator(table_name, col_names, query):\n",
    "    prompt = prompt_template.format(table_name, col_names, query)\n",
    "    return prompt\n"
   ]
  },
  {
   "cell_type": "code",
   "execution_count": 19,
   "metadata": {},
   "outputs": [
    {
     "name": "stdout",
     "output_type": "stream",
     "text": [
      "\n",
      "\n",
      "Given the following SQL table, your job is to write queries given a user’s request. \n",
      "\n",
      "\n",
      "CREATE TABLE chicago_crime ('ID', 'Case Number', 'Date', 'Block', 'IUCR', 'Primary Type', 'Description', 'Location Description', 'Arrest', 'Domestic', 'Beat', 'District', 'Ward', 'Community Area', 'FBI Code', 'X Coordinate', 'Y Coordinate', 'Year', 'Updated On', 'Latitude', 'Longitude', 'Location') \n",
      "\n",
      "\n",
      "Write a SQL query that returns - How many cases are from the year 2023?\n",
      "\n"
     ]
    }
   ],
   "source": [
    "table = \"chicago_crime\"\n",
    "col_names = str(list(chicago_crime.columns)).replace('[', '').replace(']', '')\n",
    "query = \"How many cases are from the year 2023?\"\n",
    "\n",
    "p = sql_prompt_generator(table_name = table, col_names = col_names, query = query)\n",
    "\n",
    "print(p)\n",
    "\n"
   ]
  },
  {
   "cell_type": "code",
   "execution_count": 7,
   "metadata": {},
   "outputs": [],
   "source": [
    "openai.api_key = os.getenv('OPENAI_KEY')"
   ]
  },
  {
   "cell_type": "code",
   "execution_count": 21,
   "metadata": {},
   "outputs": [
    {
     "data": {
      "text/plain": [
       "<bound method NDFrame.head of                                id object     created         owned_by\n",
       "0     text-search-babbage-doc-001  model  1651172509       openai-dev\n",
       "1                           gpt-4  model  1687882411           openai\n",
       "2              curie-search-query  model  1651172509       openai-dev\n",
       "3                text-davinci-003  model  1669599635  openai-internal\n",
       "4   text-search-babbage-query-001  model  1651172509       openai-dev\n",
       "..                            ...    ...         ...              ...\n",
       "65    gpt-3.5-turbo-instruct-0914  model  1694122472           system\n",
       "66                       dall-e-2  model  1698798177           system\n",
       "67                     tts-1-1106  model  1699053241           system\n",
       "68                  tts-1-hd-1106  model  1699053533           system\n",
       "69              gpt-3.5-turbo-16k  model  1683758102  openai-internal\n",
       "\n",
       "[70 rows x 4 columns]>"
      ]
     },
     "execution_count": 21,
     "metadata": {},
     "output_type": "execute_result"
    }
   ],
   "source": [
    "openai_api_models = pd.DataFrame(openai.Model.list()[\"data\"])\n",
    "\n",
    "openai_api_models.head"
   ]
  },
  {
   "cell_type": "code",
   "execution_count": 22,
   "metadata": {},
   "outputs": [],
   "source": [
    "response = openai.Completion.create(engine = \"text-davinci-003\",\n",
    "                                     prompt= p)"
   ]
  },
  {
   "cell_type": "code",
   "execution_count": 23,
   "metadata": {},
   "outputs": [
    {
     "name": "stdout",
     "output_type": "stream",
     "text": [
      "SELECT COUNT(*) FROM chicago_crime WHERE `year` = 20\n"
     ]
    },
    {
     "ename": "CatalogException",
     "evalue": "Catalog Error: Scalar Function with name `__postfix does not exist!\nDid you mean \"!__postfix\"?",
     "output_type": "error",
     "traceback": [
      "\u001b[0;31m---------------------------------------------------------------------------\u001b[0m",
      "\u001b[0;31mCatalogException\u001b[0m                          Traceback (most recent call last)",
      "\u001b[1;32m/workspaces/lang2sql/openai_poc.ipynb Cell 14\u001b[0m line \u001b[0;36m3\n\u001b[1;32m      <a href='vscode-notebook-cell://dev-container%2B7b22686f737450617468223a222f55736572732f72616d696b72697370696e2f506572736f6e616c2f7475746f7269616c732f6c616e673273716c222c226c6f63616c446f636b6572223a66616c73652c2273657474696e6773223a7b22636f6e74657874223a2276657373656c227d2c22636f6e66696746696c65223a7b22246d6964223a312c22667350617468223a222f55736572732f72616d696b72697370696e2f506572736f6e616c2f7475746f7269616c732f6c616e673273716c2f2e646576636f6e7461696e65722f646576636f6e7461696e65722e6a736f6e222c2265787465726e616c223a2266696c653a2f2f2f55736572732f72616d696b72697370696e2f506572736f6e616c2f7475746f7269616c732f6c616e673273716c2f2e646576636f6e7461696e65722f646576636f6e7461696e65722e6a736f6e222c2270617468223a222f55736572732f72616d696b72697370696e2f506572736f6e616c2f7475746f7269616c732f6c616e673273716c2f2e646576636f6e7461696e65722f646576636f6e7461696e65722e6a736f6e222c22736368656d65223a2266696c65227d7d/workspaces/lang2sql/openai_poc.ipynb#X15sdnNjb2RlLXJlbW90ZQ%3D%3D?line=0'>1</a>\u001b[0m query \u001b[39m=\u001b[39m response[\u001b[39m\"\u001b[39m\u001b[39mchoices\u001b[39m\u001b[39m\"\u001b[39m][\u001b[39m0\u001b[39m][\u001b[39m\"\u001b[39m\u001b[39mtext\u001b[39m\u001b[39m\"\u001b[39m]\n\u001b[1;32m      <a href='vscode-notebook-cell://dev-container%2B7b22686f737450617468223a222f55736572732f72616d696b72697370696e2f506572736f6e616c2f7475746f7269616c732f6c616e673273716c222c226c6f63616c446f636b6572223a66616c73652c2273657474696e6773223a7b22636f6e74657874223a2276657373656c227d2c22636f6e66696746696c65223a7b22246d6964223a312c22667350617468223a222f55736572732f72616d696b72697370696e2f506572736f6e616c2f7475746f7269616c732f6c616e673273716c2f2e646576636f6e7461696e65722f646576636f6e7461696e65722e6a736f6e222c2265787465726e616c223a2266696c653a2f2f2f55736572732f72616d696b72697370696e2f506572736f6e616c2f7475746f7269616c732f6c616e673273716c2f2e646576636f6e7461696e65722f646576636f6e7461696e65722e6a736f6e222c2270617468223a222f55736572732f72616d696b72697370696e2f506572736f6e616c2f7475746f7269616c732f6c616e673273716c2f2e646576636f6e7461696e65722f646576636f6e7461696e65722e6a736f6e222c22736368656d65223a2266696c65227d7d/workspaces/lang2sql/openai_poc.ipynb#X15sdnNjb2RlLXJlbW90ZQ%3D%3D?line=1'>2</a>\u001b[0m \u001b[39mprint\u001b[39m(query)\n\u001b[0;32m----> <a href='vscode-notebook-cell://dev-container%2B7b22686f737450617468223a222f55736572732f72616d696b72697370696e2f506572736f6e616c2f7475746f7269616c732f6c616e673273716c222c226c6f63616c446f636b6572223a66616c73652c2273657474696e6773223a7b22636f6e74657874223a2276657373656c227d2c22636f6e66696746696c65223a7b22246d6964223a312c22667350617468223a222f55736572732f72616d696b72697370696e2f506572736f6e616c2f7475746f7269616c732f6c616e673273716c2f2e646576636f6e7461696e65722f646576636f6e7461696e65722e6a736f6e222c2265787465726e616c223a2266696c653a2f2f2f55736572732f72616d696b72697370696e2f506572736f6e616c2f7475746f7269616c732f6c616e673273716c2f2e646576636f6e7461696e65722f646576636f6e7461696e65722e6a736f6e222c2270617468223a222f55736572732f72616d696b72697370696e2f506572736f6e616c2f7475746f7269616c732f6c616e673273716c2f2e646576636f6e7461696e65722f646576636f6e7461696e65722e6a736f6e222c22736368656d65223a2266696c65227d7d/workspaces/lang2sql/openai_poc.ipynb#X15sdnNjb2RlLXJlbW90ZQ%3D%3D?line=2'>3</a>\u001b[0m duckdb\u001b[39m.\u001b[39;49msql(query)\u001b[39m.\u001b[39mshow()\n",
      "\u001b[0;31mCatalogException\u001b[0m: Catalog Error: Scalar Function with name `__postfix does not exist!\nDid you mean \"!__postfix\"?"
     ]
    }
   ],
   "source": [
    "query = response[\"choices\"][0][\"text\"]\n",
    "print(query)\n",
    "duckdb.sql(query).show()"
   ]
  },
  {
   "cell_type": "code",
   "execution_count": 24,
   "metadata": {},
   "outputs": [
    {
     "name": "stdout",
     "output_type": "stream",
     "text": [
      "{\n",
      "  \"warning\": \"This model version is deprecated. Migrate before January 4, 2024 to avoid disruption of service. Learn more https://platform.openai.com/docs/deprecations\",\n",
      "  \"id\": \"cmpl-8PzR6LpdEHck81Q8PNisYVTdkame9\",\n",
      "  \"object\": \"text_completion\",\n",
      "  \"created\": 1701205052,\n",
      "  \"model\": \"text-davinci-003\",\n",
      "  \"choices\": [\n",
      "    {\n",
      "      \"text\": \"\\nSELECT COUNT(*)\\nFROM chicago_crime\\nWHERE Year\",\n",
      "      \"index\": 0,\n",
      "      \"logprobs\": null,\n",
      "      \"finish_reason\": \"length\"\n",
      "    },\n",
      "    {\n",
      "      \"text\": \"\\nSELECT COUNT(*) \\nFROM chicago_crime  \\n\",\n",
      "      \"index\": 1,\n",
      "      \"logprobs\": null,\n",
      "      \"finish_reason\": \"length\"\n",
      "    }\n",
      "  ],\n",
      "  \"usage\": {\n",
      "    \"prompt_tokens\": 134,\n",
      "    \"completion_tokens\": 32,\n",
      "    \"total_tokens\": 166\n",
      "  }\n",
      "}\n"
     ]
    }
   ],
   "source": [
    "response = openai.Completion.create(engine = \"text-davinci-003\",\n",
    "                                     prompt= p,\n",
    "                                     n = 2)\n",
    "print(response)\n",
    "query = response[\"choices\"][0][\"text\"]"
   ]
  },
  {
   "cell_type": "code",
   "execution_count": 25,
   "metadata": {},
   "outputs": [
    {
     "name": "stdout",
     "output_type": "stream",
     "text": [
      "{\n",
      "  \"warning\": \"This model version is deprecated. Migrate before January 4, 2024 to avoid disruption of service. Learn more https://platform.openai.com/docs/deprecations\",\n",
      "  \"id\": \"cmpl-8PzR6z8MGo0EfUe2we9OYueYNbgLZ\",\n",
      "  \"object\": \"text_completion\",\n",
      "  \"created\": 1701205052,\n",
      "  \"model\": \"text-davinci-003\",\n",
      "  \"choices\": [\n",
      "    {\n",
      "      \"text\": \"\\nSELECT COUNT(*) FROM chicago_crime WHERE Year = 2023\",\n",
      "      \"index\": 0,\n",
      "      \"logprobs\": null,\n",
      "      \"finish_reason\": \"length\"\n",
      "    },\n",
      "    {\n",
      "      \"text\": \"\\nSELECT COUNT(*) FROM chicago_crime WHERE Year = 2023\",\n",
      "      \"index\": 1,\n",
      "      \"logprobs\": null,\n",
      "      \"finish_reason\": \"length\"\n",
      "    }\n",
      "  ],\n",
      "  \"usage\": {\n",
      "    \"prompt_tokens\": 134,\n",
      "    \"completion_tokens\": 32,\n",
      "    \"total_tokens\": 166\n",
      "  }\n",
      "}\n"
     ]
    }
   ],
   "source": [
    "response = openai.Completion.create(engine = \"text-davinci-003\",\n",
    "                                     prompt= p,\n",
    "                                     n = 2,\n",
    "                                     temperature = 0)\n",
    "print(response)\n",
    "query = response[\"choices\"][0][\"text\"]"
   ]
  },
  {
   "cell_type": "code",
   "execution_count": 26,
   "metadata": {},
   "outputs": [
    {
     "name": "stdout",
     "output_type": "stream",
     "text": [
      "{\n",
      "  \"warning\": \"This model version is deprecated. Migrate before January 4, 2024 to avoid disruption of service. Learn more https://platform.openai.com/docs/deprecations\",\n",
      "  \"id\": \"cmpl-8PzR7muUDIG3y2tPuoW7OYPPDyul5\",\n",
      "  \"object\": \"text_completion\",\n",
      "  \"created\": 1701205053,\n",
      "  \"model\": \"text-davinci-003\",\n",
      "  \"choices\": [\n",
      "    {\n",
      "      \"text\": \"SELECT COUNT(2000) \\n sympath vaccination Wife 2014 occupations giving with Policy\",\n",
      "      \"index\": 0,\n",
      "      \"logprobs\": null,\n",
      "      \"finish_reason\": \"length\"\n",
      "    },\n",
      "    {\n",
      "      \"text\": \"\\nSELECT COUNT(*) \\n    FROM chicago_crime\\nWHERE\",\n",
      "      \"index\": 1,\n",
      "      \"logprobs\": null,\n",
      "      \"finish_reason\": \"length\"\n",
      "    }\n",
      "  ],\n",
      "  \"usage\": {\n",
      "    \"prompt_tokens\": 134,\n",
      "    \"completion_tokens\": 32,\n",
      "    \"total_tokens\": 166\n",
      "  }\n",
      "}\n"
     ]
    }
   ],
   "source": [
    "response = openai.Completion.create(engine = \"text-davinci-003\",\n",
    "                                     prompt= p,\n",
    "                                     n = 2,\n",
    "                                     temperature = 2)\n",
    "print(response)\n",
    "query = response[\"choices\"][0][\"text\"]"
   ]
  },
  {
   "cell_type": "code",
   "execution_count": 27,
   "metadata": {},
   "outputs": [],
   "source": [
    "def lang2sql(api_key, table_name, col_names, query, engine = \"text-davinci-003\", n = 1, temperature = 0):\n",
    "    prompt = sql_prompt_generator(table_name = table_name, col_names = col_names, query = query)\n",
    "    \n",
    "    openai.api_key = api_key\n",
    "\n",
    "    response = openai.Completion.create(engine = engine,\n",
    "                                        prompt= prompt,\n",
    "                                        n = n,\n",
    "                                        temperature = temperature)\n",
    "    return response\n"
   ]
  },
  {
   "cell_type": "code",
   "execution_count": 28,
   "metadata": {},
   "outputs": [],
   "source": [
    "table_name = \"chicago_crime\"\n",
    "col_names = str(list(chicago_crime.columns)).replace('[', '').replace(']', '')\n",
    "api_key = os.getenv('OPENAI_KEY')"
   ]
  },
  {
   "cell_type": "code",
   "execution_count": 29,
   "metadata": {},
   "outputs": [],
   "source": [
    "query = \"How many cases are from the year 2023?\"\n",
    "\n",
    "response = lang2sql(api_key = api_key, table_name = table_name, col_names= col_names, query = query)"
   ]
  },
  {
   "cell_type": "code",
   "execution_count": 30,
   "metadata": {},
   "outputs": [
    {
     "name": "stdout",
     "output_type": "stream",
     "text": [
      "{\n",
      "  \"warning\": \"This model version is deprecated. Migrate before January 4, 2024 to avoid disruption of service. Learn more https://platform.openai.com/docs/deprecations\",\n",
      "  \"id\": \"cmpl-8PzR8hP1OI5ih0B3tdlPGCNTzu58U\",\n",
      "  \"object\": \"text_completion\",\n",
      "  \"created\": 1701205054,\n",
      "  \"model\": \"text-davinci-003\",\n",
      "  \"choices\": [\n",
      "    {\n",
      "      \"text\": \"\\nSELECT COUNT(*) FROM chicago_crime WHERE Year = 2023\",\n",
      "      \"index\": 0,\n",
      "      \"logprobs\": null,\n",
      "      \"finish_reason\": \"length\"\n",
      "    }\n",
      "  ],\n",
      "  \"usage\": {\n",
      "    \"prompt_tokens\": 134,\n",
      "    \"completion_tokens\": 16,\n",
      "    \"total_tokens\": 150\n",
      "  }\n",
      "}\n",
      "\n",
      "SELECT COUNT(*) FROM chicago_crime WHERE Year = 2023\n",
      "┌──────────────┐\n",
      "│ count_star() │\n",
      "│    int64     │\n",
      "├──────────────┤\n",
      "│       200932 │\n",
      "└──────────────┘\n",
      "\n"
     ]
    }
   ],
   "source": [
    "print(response)\n",
    "sql_query = response[\"choices\"][0][\"text\"]\n",
    "print(sql_query)\n",
    "\n",
    "duckdb.sql(sql_query).show()"
   ]
  },
  {
   "cell_type": "code",
   "execution_count": 31,
   "metadata": {},
   "outputs": [
    {
     "name": "stdout",
     "output_type": "stream",
     "text": [
      "\n",
      "SELECT COUNT(*) \n",
      "FROM chicago_crime \n",
      "\n"
     ]
    }
   ],
   "source": [
    "query = \"How many cases ended up with arrest?\"\n",
    "\n",
    "response = lang2sql(api_key = api_key, table_name = table_name, col_names= col_names, query = query)\n",
    "sql_query = response[\"choices\"][0][\"text\"]\n",
    "print(sql_query)"
   ]
  },
  {
   "cell_type": "code",
   "execution_count": 32,
   "metadata": {},
   "outputs": [
    {
     "data": {
      "text/plain": [
       "┌──────────────────────┬─────────────┬─────────┬─────────┬─────────┬─────────┐\n",
       "│     column_name      │ column_type │  null   │   key   │ default │  extra  │\n",
       "│       varchar        │   varchar   │ varchar │ varchar │ varchar │ varchar │\n",
       "├──────────────────────┼─────────────┼─────────┼─────────┼─────────┼─────────┤\n",
       "│ ID                   │ BIGINT      │ YES     │ NULL    │ NULL    │ NULL    │\n",
       "│ Case Number          │ VARCHAR     │ YES     │ NULL    │ NULL    │ NULL    │\n",
       "│ Date                 │ VARCHAR     │ YES     │ NULL    │ NULL    │ NULL    │\n",
       "│ Block                │ VARCHAR     │ YES     │ NULL    │ NULL    │ NULL    │\n",
       "│ IUCR                 │ VARCHAR     │ YES     │ NULL    │ NULL    │ NULL    │\n",
       "│ Primary Type         │ VARCHAR     │ YES     │ NULL    │ NULL    │ NULL    │\n",
       "│ Description          │ VARCHAR     │ YES     │ NULL    │ NULL    │ NULL    │\n",
       "│ Location Description │ VARCHAR     │ YES     │ NULL    │ NULL    │ NULL    │\n",
       "│ Arrest               │ BOOLEAN     │ YES     │ NULL    │ NULL    │ NULL    │\n",
       "│ Domestic             │ BOOLEAN     │ YES     │ NULL    │ NULL    │ NULL    │\n",
       "│ Beat                 │ BIGINT      │ YES     │ NULL    │ NULL    │ NULL    │\n",
       "│ District             │ BIGINT      │ YES     │ NULL    │ NULL    │ NULL    │\n",
       "│ Ward                 │ DOUBLE      │ YES     │ NULL    │ NULL    │ NULL    │\n",
       "│ Community Area       │ BIGINT      │ YES     │ NULL    │ NULL    │ NULL    │\n",
       "│ FBI Code             │ VARCHAR     │ YES     │ NULL    │ NULL    │ NULL    │\n",
       "│ X Coordinate         │ DOUBLE      │ YES     │ NULL    │ NULL    │ NULL    │\n",
       "│ Y Coordinate         │ DOUBLE      │ YES     │ NULL    │ NULL    │ NULL    │\n",
       "│ Year                 │ BIGINT      │ YES     │ NULL    │ NULL    │ NULL    │\n",
       "│ Updated On           │ VARCHAR     │ YES     │ NULL    │ NULL    │ NULL    │\n",
       "│ Latitude             │ DOUBLE      │ YES     │ NULL    │ NULL    │ NULL    │\n",
       "│ Longitude            │ DOUBLE      │ YES     │ NULL    │ NULL    │ NULL    │\n",
       "│ Location             │ VARCHAR     │ YES     │ NULL    │ NULL    │ NULL    │\n",
       "├──────────────────────┴─────────────┴─────────┴─────────┴─────────┴─────────┤\n",
       "│ 22 rows                                                          6 columns │\n",
       "└────────────────────────────────────────────────────────────────────────────┘"
      ]
     },
     "execution_count": 32,
     "metadata": {},
     "output_type": "execute_result"
    }
   ],
   "source": [
    "tbl_describe = duckdb.sql(\"DESCRIBE SELECT * FROM chicago_crime;\")\n",
    "tbl_describe\n",
    "\n"
   ]
  },
  {
   "cell_type": "code",
   "execution_count": 33,
   "metadata": {},
   "outputs": [
    {
     "data": {
      "text/html": [
       "<div>\n",
       "<style scoped>\n",
       "    .dataframe tbody tr th:only-of-type {\n",
       "        vertical-align: middle;\n",
       "    }\n",
       "\n",
       "    .dataframe tbody tr th {\n",
       "        vertical-align: top;\n",
       "    }\n",
       "\n",
       "    .dataframe thead th {\n",
       "        text-align: right;\n",
       "    }\n",
       "</style>\n",
       "<table border=\"1\" class=\"dataframe\">\n",
       "  <thead>\n",
       "    <tr style=\"text-align: right;\">\n",
       "      <th></th>\n",
       "      <th>column_name</th>\n",
       "      <th>column_type</th>\n",
       "      <th>column_joint</th>\n",
       "    </tr>\n",
       "  </thead>\n",
       "  <tbody>\n",
       "    <tr>\n",
       "      <th>0</th>\n",
       "      <td>ID</td>\n",
       "      <td>BIGINT</td>\n",
       "      <td>ID BIGINT</td>\n",
       "    </tr>\n",
       "    <tr>\n",
       "      <th>1</th>\n",
       "      <td>Case Number</td>\n",
       "      <td>VARCHAR</td>\n",
       "      <td>Case Number VARCHAR</td>\n",
       "    </tr>\n",
       "    <tr>\n",
       "      <th>2</th>\n",
       "      <td>Date</td>\n",
       "      <td>VARCHAR</td>\n",
       "      <td>Date VARCHAR</td>\n",
       "    </tr>\n",
       "    <tr>\n",
       "      <th>3</th>\n",
       "      <td>Block</td>\n",
       "      <td>VARCHAR</td>\n",
       "      <td>Block VARCHAR</td>\n",
       "    </tr>\n",
       "    <tr>\n",
       "      <th>4</th>\n",
       "      <td>IUCR</td>\n",
       "      <td>VARCHAR</td>\n",
       "      <td>IUCR VARCHAR</td>\n",
       "    </tr>\n",
       "    <tr>\n",
       "      <th>5</th>\n",
       "      <td>Primary Type</td>\n",
       "      <td>VARCHAR</td>\n",
       "      <td>Primary Type VARCHAR</td>\n",
       "    </tr>\n",
       "    <tr>\n",
       "      <th>6</th>\n",
       "      <td>Description</td>\n",
       "      <td>VARCHAR</td>\n",
       "      <td>Description VARCHAR</td>\n",
       "    </tr>\n",
       "    <tr>\n",
       "      <th>7</th>\n",
       "      <td>Location Description</td>\n",
       "      <td>VARCHAR</td>\n",
       "      <td>Location Description VARCHAR</td>\n",
       "    </tr>\n",
       "    <tr>\n",
       "      <th>8</th>\n",
       "      <td>Arrest</td>\n",
       "      <td>BOOLEAN</td>\n",
       "      <td>Arrest BOOLEAN</td>\n",
       "    </tr>\n",
       "    <tr>\n",
       "      <th>9</th>\n",
       "      <td>Domestic</td>\n",
       "      <td>BOOLEAN</td>\n",
       "      <td>Domestic BOOLEAN</td>\n",
       "    </tr>\n",
       "    <tr>\n",
       "      <th>10</th>\n",
       "      <td>Beat</td>\n",
       "      <td>BIGINT</td>\n",
       "      <td>Beat BIGINT</td>\n",
       "    </tr>\n",
       "    <tr>\n",
       "      <th>11</th>\n",
       "      <td>District</td>\n",
       "      <td>BIGINT</td>\n",
       "      <td>District BIGINT</td>\n",
       "    </tr>\n",
       "    <tr>\n",
       "      <th>12</th>\n",
       "      <td>Ward</td>\n",
       "      <td>DOUBLE</td>\n",
       "      <td>Ward DOUBLE</td>\n",
       "    </tr>\n",
       "    <tr>\n",
       "      <th>13</th>\n",
       "      <td>Community Area</td>\n",
       "      <td>BIGINT</td>\n",
       "      <td>Community Area BIGINT</td>\n",
       "    </tr>\n",
       "    <tr>\n",
       "      <th>14</th>\n",
       "      <td>FBI Code</td>\n",
       "      <td>VARCHAR</td>\n",
       "      <td>FBI Code VARCHAR</td>\n",
       "    </tr>\n",
       "    <tr>\n",
       "      <th>15</th>\n",
       "      <td>X Coordinate</td>\n",
       "      <td>DOUBLE</td>\n",
       "      <td>X Coordinate DOUBLE</td>\n",
       "    </tr>\n",
       "    <tr>\n",
       "      <th>16</th>\n",
       "      <td>Y Coordinate</td>\n",
       "      <td>DOUBLE</td>\n",
       "      <td>Y Coordinate DOUBLE</td>\n",
       "    </tr>\n",
       "    <tr>\n",
       "      <th>17</th>\n",
       "      <td>Year</td>\n",
       "      <td>BIGINT</td>\n",
       "      <td>Year BIGINT</td>\n",
       "    </tr>\n",
       "    <tr>\n",
       "      <th>18</th>\n",
       "      <td>Updated On</td>\n",
       "      <td>VARCHAR</td>\n",
       "      <td>Updated On VARCHAR</td>\n",
       "    </tr>\n",
       "    <tr>\n",
       "      <th>19</th>\n",
       "      <td>Latitude</td>\n",
       "      <td>DOUBLE</td>\n",
       "      <td>Latitude DOUBLE</td>\n",
       "    </tr>\n",
       "    <tr>\n",
       "      <th>20</th>\n",
       "      <td>Longitude</td>\n",
       "      <td>DOUBLE</td>\n",
       "      <td>Longitude DOUBLE</td>\n",
       "    </tr>\n",
       "    <tr>\n",
       "      <th>21</th>\n",
       "      <td>Location</td>\n",
       "      <td>VARCHAR</td>\n",
       "      <td>Location VARCHAR</td>\n",
       "    </tr>\n",
       "  </tbody>\n",
       "</table>\n",
       "</div>"
      ],
      "text/plain": [
       "             column_name column_type                  column_joint\n",
       "0                     ID      BIGINT                     ID BIGINT\n",
       "1            Case Number     VARCHAR           Case Number VARCHAR\n",
       "2                   Date     VARCHAR                  Date VARCHAR\n",
       "3                  Block     VARCHAR                 Block VARCHAR\n",
       "4                   IUCR     VARCHAR                  IUCR VARCHAR\n",
       "5           Primary Type     VARCHAR          Primary Type VARCHAR\n",
       "6            Description     VARCHAR           Description VARCHAR\n",
       "7   Location Description     VARCHAR  Location Description VARCHAR\n",
       "8                 Arrest     BOOLEAN                Arrest BOOLEAN\n",
       "9               Domestic     BOOLEAN              Domestic BOOLEAN\n",
       "10                  Beat      BIGINT                   Beat BIGINT\n",
       "11              District      BIGINT               District BIGINT\n",
       "12                  Ward      DOUBLE                   Ward DOUBLE\n",
       "13        Community Area      BIGINT         Community Area BIGINT\n",
       "14              FBI Code     VARCHAR              FBI Code VARCHAR\n",
       "15          X Coordinate      DOUBLE           X Coordinate DOUBLE\n",
       "16          Y Coordinate      DOUBLE           Y Coordinate DOUBLE\n",
       "17                  Year      BIGINT                   Year BIGINT\n",
       "18            Updated On     VARCHAR            Updated On VARCHAR\n",
       "19              Latitude      DOUBLE               Latitude DOUBLE\n",
       "20             Longitude      DOUBLE              Longitude DOUBLE\n",
       "21              Location     VARCHAR              Location VARCHAR"
      ]
     },
     "execution_count": 33,
     "metadata": {},
     "output_type": "execute_result"
    }
   ],
   "source": [
    "col_attr = tbl_describe.df()[[\"column_name\", \"column_type\"]]\n",
    "\n",
    "col_attr[\"column_joint\"] = col_attr[\"column_name\"] + \" \" +  col_attr[\"column_type\"]\n",
    "col_attr"
   ]
  },
  {
   "cell_type": "code",
   "execution_count": 34,
   "metadata": {},
   "outputs": [
    {
     "name": "stdout",
     "output_type": "stream",
     "text": [
      "\n",
      "\n",
      "Given the following SQL table, your job is to write queries given a user’s request. \n",
      "\n",
      "\n",
      "CREATE TABLE chicago_crime (ID BIGINT, Case Number VARCHAR, Date VARCHAR, Block VARCHAR, IUCR VARCHAR, Primary Type VARCHAR, Description VARCHAR, Location Description VARCHAR, Arrest BOOLEAN, Domestic BOOLEAN, Beat BIGINT, District BIGINT, Ward DOUBLE, Community Area BIGINT, FBI Code VARCHAR, X Coordinate DOUBLE, Y Coordinate DOUBLE, Year BIGINT, Updated On VARCHAR, Latitude DOUBLE, Longitude DOUBLE, Location VARCHAR) \n",
      "\n",
      "\n",
      "Write a SQL query that returns - How many cases ended up with arrest?\n",
      "\n"
     ]
    }
   ],
   "source": [
    "col_names = str(list(col_attr[\"column_joint\"].values)).replace('[', '').replace(']', '').replace('\\'', '')\n",
    "query = \"How many cases ended up with arrest?\"\n",
    "prompt = sql_prompt_generator(table_name = table_name, col_names = col_names, query = query)\n",
    "print(prompt)"
   ]
  },
  {
   "cell_type": "code",
   "execution_count": 35,
   "metadata": {},
   "outputs": [
    {
     "name": "stdout",
     "output_type": "stream",
     "text": [
      "{\n",
      "  \"warning\": \"This model version is deprecated. Migrate before January 4, 2024 to avoid disruption of service. Learn more https://platform.openai.com/docs/deprecations\",\n",
      "  \"id\": \"cmpl-8PzR9Hrv0Q2BNAgnSHyKiH0P18TO8\",\n",
      "  \"object\": \"text_completion\",\n",
      "  \"created\": 1701205055,\n",
      "  \"model\": \"text-davinci-003\",\n",
      "  \"choices\": [\n",
      "    {\n",
      "      \"text\": \"\\nSELECT COUNT(*) \\nFROM chicago_crime \\n\",\n",
      "      \"index\": 0,\n",
      "      \"logprobs\": null,\n",
      "      \"finish_reason\": \"length\"\n",
      "    }\n",
      "  ],\n",
      "  \"usage\": {\n",
      "    \"prompt_tokens\": 172,\n",
      "    \"completion_tokens\": 16,\n",
      "    \"total_tokens\": 188\n",
      "  }\n",
      "}\n",
      "\n",
      "SELECT COUNT(*) \n",
      "FROM chicago_crime \n",
      "\n"
     ]
    }
   ],
   "source": [
    "\n",
    "response = lang2sql(api_key = api_key, table_name = table_name, col_names= col_names, query = query)\n",
    "print(response)\n",
    "sql_query = response[\"choices\"][0][\"text\"]\n",
    "print(sql_query)"
   ]
  },
  {
   "cell_type": "code",
   "execution_count": 36,
   "metadata": {},
   "outputs": [],
   "source": [
    "system = \"\"\"\n",
    "Given the following SQL table, your job is to write queries given a user’s request. \n",
    "\n",
    "\n",
    "CREATE TABLE chicago_crime (ID BIGINT, Case Number VARCHAR, Date VARCHAR, Block VARCHAR, IUCR VARCHAR, Primary Type VARCHAR, Description VARCHAR, Location Description VARCHAR, Arrest BOOLEAN, Domestic BOOLEAN, Beat BIGINT, District BIGINT, Ward DOUBLE, Community Area BIGINT, FBI Code VARCHAR, X Coordinate DOUBLE, Y Coordinate DOUBLE, Year BIGINT, Updated On VARCHAR, Latitude DOUBLE, Longitude DOUBLE, Location VARCHAR) \n",
    "\"\"\"\n",
    "\n",
    "prompt = \"Write a SQL query that returns - How many cases ended up with arrest?\"\n",
    "\n",
    "response = openai.ChatCompletion.create(\n",
    "  model=\"gpt-3.5-turbo\",\n",
    "  messages=[\n",
    "    {\n",
    "      \"role\": \"system\",\n",
    "      \"content\": system\n",
    "    },\n",
    "    {\n",
    "      \"role\": \"user\",\n",
    "      \"content\": prompt\n",
    "    }\n",
    "  ],\n",
    "  temperature=1,\n",
    "  max_tokens=256,\n",
    "  top_p=1,\n",
    "  frequency_penalty=0,\n",
    "  presence_penalty=0\n",
    ")"
   ]
  },
  {
   "cell_type": "code",
   "execution_count": 37,
   "metadata": {},
   "outputs": [
    {
     "name": "stdout",
     "output_type": "stream",
     "text": [
      "{\n",
      "  \"id\": \"chatcmpl-8PzRA3oj9bRqxq2xP45oL5PXVkvo6\",\n",
      "  \"object\": \"chat.completion\",\n",
      "  \"created\": 1701205056,\n",
      "  \"model\": \"gpt-3.5-turbo-0613\",\n",
      "  \"choices\": [\n",
      "    {\n",
      "      \"index\": 0,\n",
      "      \"message\": {\n",
      "        \"role\": \"assistant\",\n",
      "        \"content\": \"SELECT COUNT(*) FROM chicago_crime WHERE Arrest = TRUE;\"\n",
      "      },\n",
      "      \"finish_reason\": \"stop\"\n",
      "    }\n",
      "  ],\n",
      "  \"usage\": {\n",
      "    \"prompt_tokens\": 134,\n",
      "    \"completion_tokens\": 12,\n",
      "    \"total_tokens\": 146\n",
      "  }\n",
      "}\n"
     ]
    }
   ],
   "source": [
    "print(response)"
   ]
  },
  {
   "cell_type": "code",
   "execution_count": 38,
   "metadata": {},
   "outputs": [
    {
     "name": "stdout",
     "output_type": "stream",
     "text": [
      "SELECT COUNT(*) FROM chicago_crime WHERE Arrest = TRUE;\n"
     ]
    }
   ],
   "source": [
    "sql_query = response[\"choices\"][0][\"message\"][\"content\"]\n",
    "print(sql_query)\n"
   ]
  },
  {
   "cell_type": "code",
   "execution_count": 39,
   "metadata": {},
   "outputs": [
    {
     "name": "stdout",
     "output_type": "stream",
     "text": [
      "┌──────────────┐\n",
      "│ count_star() │\n",
      "│    int64     │\n",
      "├──────────────┤\n",
      "│        77635 │\n",
      "└──────────────┘\n",
      "\n"
     ]
    }
   ],
   "source": [
    "duckdb.sql(sql_query).show()"
   ]
  },
  {
   "cell_type": "code",
   "execution_count": 40,
   "metadata": {},
   "outputs": [
    {
     "data": {
      "text/plain": [
       "┌──────────────────────┬─────────────┬─────────┬─────────┬─────────┬─────────┐\n",
       "│     column_name      │ column_type │  null   │   key   │ default │  extra  │\n",
       "│       varchar        │   varchar   │ varchar │ varchar │ varchar │ varchar │\n",
       "├──────────────────────┼─────────────┼─────────┼─────────┼─────────┼─────────┤\n",
       "│ ID                   │ BIGINT      │ YES     │ NULL    │ NULL    │ NULL    │\n",
       "│ Case Number          │ VARCHAR     │ YES     │ NULL    │ NULL    │ NULL    │\n",
       "│ Date                 │ VARCHAR     │ YES     │ NULL    │ NULL    │ NULL    │\n",
       "│ Block                │ VARCHAR     │ YES     │ NULL    │ NULL    │ NULL    │\n",
       "│ IUCR                 │ VARCHAR     │ YES     │ NULL    │ NULL    │ NULL    │\n",
       "│ Primary Type         │ VARCHAR     │ YES     │ NULL    │ NULL    │ NULL    │\n",
       "│ Description          │ VARCHAR     │ YES     │ NULL    │ NULL    │ NULL    │\n",
       "│ Location Description │ VARCHAR     │ YES     │ NULL    │ NULL    │ NULL    │\n",
       "│ Arrest               │ BOOLEAN     │ YES     │ NULL    │ NULL    │ NULL    │\n",
       "│ Domestic             │ BOOLEAN     │ YES     │ NULL    │ NULL    │ NULL    │\n",
       "│ Beat                 │ BIGINT      │ YES     │ NULL    │ NULL    │ NULL    │\n",
       "│ District             │ BIGINT      │ YES     │ NULL    │ NULL    │ NULL    │\n",
       "│ Ward                 │ DOUBLE      │ YES     │ NULL    │ NULL    │ NULL    │\n",
       "│ Community Area       │ BIGINT      │ YES     │ NULL    │ NULL    │ NULL    │\n",
       "│ FBI Code             │ VARCHAR     │ YES     │ NULL    │ NULL    │ NULL    │\n",
       "│ X Coordinate         │ DOUBLE      │ YES     │ NULL    │ NULL    │ NULL    │\n",
       "│ Y Coordinate         │ DOUBLE      │ YES     │ NULL    │ NULL    │ NULL    │\n",
       "│ Year                 │ BIGINT      │ YES     │ NULL    │ NULL    │ NULL    │\n",
       "│ Updated On           │ VARCHAR     │ YES     │ NULL    │ NULL    │ NULL    │\n",
       "│ Latitude             │ DOUBLE      │ YES     │ NULL    │ NULL    │ NULL    │\n",
       "│ Longitude            │ DOUBLE      │ YES     │ NULL    │ NULL    │ NULL    │\n",
       "│ Location             │ VARCHAR     │ YES     │ NULL    │ NULL    │ NULL    │\n",
       "├──────────────────────┴─────────────┴─────────┴─────────┴─────────┴─────────┤\n",
       "│ 22 rows                                                          6 columns │\n",
       "└────────────────────────────────────────────────────────────────────────────┘"
      ]
     },
     "execution_count": 40,
     "metadata": {},
     "output_type": "execute_result"
    }
   ],
   "source": [
    "duckdb.sql(\"DESCRIBE SELECT * FROM chicago_crime;\")"
   ]
  },
  {
   "cell_type": "code",
   "execution_count": 8,
   "metadata": {},
   "outputs": [],
   "source": [
    "def create_message(table_name, query):\n",
    "\n",
    "    class message:\n",
    "        def __init__(message, system, user, column_names, column_attr):\n",
    "            message.system = system\n",
    "            message.user = user\n",
    "            message.column_names = column_names\n",
    "            message.column_attr = column_attr\n",
    "\n",
    "    \n",
    "    system_template = \"\"\"\n",
    "\n",
    "    Given the following SQL table, your job is to write queries given a user’s request. \\n\n",
    "\n",
    "    CREATE TABLE {} ({}) \\n\n",
    "    \"\"\"\n",
    "\n",
    "    user_template = \"Write a SQL query that returns - {}\"\n",
    "    \n",
    "    tbl_describe = duckdb.sql(\"DESCRIBE SELECT * FROM \" + table_name +  \";\")\n",
    "    col_attr = tbl_describe.df()[[\"column_name\", \"column_type\"]]\n",
    "    col_attr[\"column_joint\"] = col_attr[\"column_name\"] + \" \" +  col_attr[\"column_type\"]\n",
    "    col_names = str(list(col_attr[\"column_joint\"].values)).replace('[', '').replace(']', '').replace('\\'', '')\n",
    "\n",
    "    system = system_template.format(table_name, col_names)\n",
    "    user = user_template.format(query)\n",
    "\n",
    "    m = message(system = system, user = user, column_names = col_attr[\"column_name\"], column_attr = col_attr[\"column_type\"])\n",
    "    return m\n",
    "\n",
    "\n",
    "    "
   ]
  },
  {
   "cell_type": "code",
   "execution_count": 12,
   "metadata": {},
   "outputs": [
    {
     "name": "stdout",
     "output_type": "stream",
     "text": [
      "\n",
      "\n",
      "    Given the following SQL table, your job is to write queries given a user’s request. \n",
      "\n",
      "\n",
      "    CREATE TABLE chicago_crime (ID BIGINT, Case Number VARCHAR, Date VARCHAR, Block VARCHAR, IUCR VARCHAR, Primary Type VARCHAR, Description VARCHAR, Location Description VARCHAR, Arrest BOOLEAN, Domestic BOOLEAN, Beat BIGINT, District BIGINT, Ward DOUBLE, Community Area BIGINT, FBI Code VARCHAR, X Coordinate DOUBLE, Y Coordinate DOUBLE, Year BIGINT, Updated On VARCHAR, Latitude DOUBLE, Longitude DOUBLE, Location VARCHAR) \n",
      "\n",
      "    \n",
      "Write a SQL query that returns - How many cases ended up with arrest?\n",
      "0                       ID\n",
      "1              Case Number\n",
      "2                     Date\n",
      "3                    Block\n",
      "4                     IUCR\n",
      "5             Primary Type\n",
      "6              Description\n",
      "7     Location Description\n",
      "8                   Arrest\n",
      "9                 Domestic\n",
      "10                    Beat\n",
      "11                District\n",
      "12                    Ward\n",
      "13          Community Area\n",
      "14                FBI Code\n",
      "15            X Coordinate\n",
      "16            Y Coordinate\n",
      "17                    Year\n",
      "18              Updated On\n",
      "19                Latitude\n",
      "20               Longitude\n",
      "21                Location\n",
      "Name: column_name, dtype: object\n",
      "0      BIGINT\n",
      "1     VARCHAR\n",
      "2     VARCHAR\n",
      "3     VARCHAR\n",
      "4     VARCHAR\n",
      "5     VARCHAR\n",
      "6     VARCHAR\n",
      "7     VARCHAR\n",
      "8     BOOLEAN\n",
      "9     BOOLEAN\n",
      "10     BIGINT\n",
      "11     BIGINT\n",
      "12     DOUBLE\n",
      "13     BIGINT\n",
      "14    VARCHAR\n",
      "15     DOUBLE\n",
      "16     DOUBLE\n",
      "17     BIGINT\n",
      "18    VARCHAR\n",
      "19     DOUBLE\n",
      "20     DOUBLE\n",
      "21    VARCHAR\n",
      "Name: column_type, dtype: object\n"
     ]
    }
   ],
   "source": [
    "query = \"How many cases ended up with arrest?\"\n",
    "msg = create_message(table_name = \"chicago_crime\", query = query)\n",
    "\n",
    "print(msg.system)\n",
    "print(msg.user)\n",
    "print(msg.column_names)\n",
    "print(msg.column_attr)"
   ]
  },
  {
   "cell_type": "code",
   "execution_count": 13,
   "metadata": {},
   "outputs": [],
   "source": [
    "query = \"How many cases ended up with arrest?\"\n",
    "prompt = create_message(table_name = \"chicago_crime\", query = query)"
   ]
  },
  {
   "cell_type": "code",
   "execution_count": 14,
   "metadata": {},
   "outputs": [
    {
     "data": {
      "text/plain": [
       "[{'role': 'system',\n",
       "  'content': '\\n\\n    Given the following SQL table, your job is to write queries given a user’s request. \\n\\n\\n    CREATE TABLE chicago_crime (ID BIGINT, Case Number VARCHAR, Date VARCHAR, Block VARCHAR, IUCR VARCHAR, Primary Type VARCHAR, Description VARCHAR, Location Description VARCHAR, Arrest BOOLEAN, Domestic BOOLEAN, Beat BIGINT, District BIGINT, Ward DOUBLE, Community Area BIGINT, FBI Code VARCHAR, X Coordinate DOUBLE, Y Coordinate DOUBLE, Year BIGINT, Updated On VARCHAR, Latitude DOUBLE, Longitude DOUBLE, Location VARCHAR) \\n\\n    '},\n",
       " {'role': 'user',\n",
       "  'content': 'Write a SQL query that returns - How many cases ended up with arrest?'}]"
      ]
     },
     "execution_count": 14,
     "metadata": {},
     "output_type": "execute_result"
    }
   ],
   "source": [
    "  message = [\n",
    "    {\n",
    "      \"role\": \"system\",\n",
    "      \"content\": prompt.system\n",
    "    },\n",
    "    {\n",
    "      \"role\": \"user\",\n",
    "      \"content\": prompt.user\n",
    "    }\n",
    "    ]\n",
    "\n",
    "message"
   ]
  },
  {
   "cell_type": "code",
   "execution_count": 15,
   "metadata": {},
   "outputs": [],
   "source": [
    " response = openai.ChatCompletion.create(\n",
    "        model = \"gpt-3.5-turbo\",\n",
    "        messages = message,\n",
    "        temperature = 0,\n",
    "        max_tokens = 256,\n",
    "        frequency_penalty = 0,\n",
    "        presence_penalty = 0)"
   ]
  },
  {
   "cell_type": "code",
   "execution_count": 16,
   "metadata": {},
   "outputs": [
    {
     "data": {
      "text/plain": [
       "<OpenAIObject chat.completion id=chatcmpl-8QPyBs2f1ZuG1IRxF9pVBQNddX4Vl at 0xffff788f53a0> JSON: {\n",
       "  \"id\": \"chatcmpl-8QPyBs2f1ZuG1IRxF9pVBQNddX4Vl\",\n",
       "  \"object\": \"chat.completion\",\n",
       "  \"created\": 1701307047,\n",
       "  \"model\": \"gpt-3.5-turbo-0613\",\n",
       "  \"choices\": [\n",
       "    {\n",
       "      \"index\": 0,\n",
       "      \"message\": {\n",
       "        \"role\": \"assistant\",\n",
       "        \"content\": \"SELECT COUNT(*) FROM chicago_crime WHERE Arrest = true;\"\n",
       "      },\n",
       "      \"finish_reason\": \"stop\"\n",
       "    }\n",
       "  ],\n",
       "  \"usage\": {\n",
       "    \"prompt_tokens\": 137,\n",
       "    \"completion_tokens\": 12,\n",
       "    \"total_tokens\": 149\n",
       "  },\n",
       "  \"system_fingerprint\": null\n",
       "}"
      ]
     },
     "execution_count": 16,
     "metadata": {},
     "output_type": "execute_result"
    }
   ],
   "source": [
    "response"
   ]
  },
  {
   "cell_type": "code",
   "execution_count": 24,
   "metadata": {},
   "outputs": [
    {
     "name": "stdout",
     "output_type": "stream",
     "text": [
      "SELECT COUNT(*) FROM chicago_crime WHERE Arrest = true;\n"
     ]
    }
   ],
   "source": [
    "sql = response[\"choices\"][0][\"message\"][\"content\"]\n",
    "\n",
    "print(sql)"
   ]
  },
  {
   "cell_type": "code",
   "execution_count": 25,
   "metadata": {},
   "outputs": [
    {
     "name": "stdout",
     "output_type": "stream",
     "text": [
      "┌──────────────┐\n",
      "│ count_star() │\n",
      "│    int64     │\n",
      "├──────────────┤\n",
      "│        77635 │\n",
      "└──────────────┘\n",
      "\n"
     ]
    }
   ],
   "source": [
    "duckdb.sql(sql).show()"
   ]
  },
  {
   "cell_type": "code",
   "execution_count": 9,
   "metadata": {},
   "outputs": [],
   "source": [
    "def add_quotes(query, col_names):\n",
    "    for i in col_names:\n",
    "        if i in query:\n",
    "            l = query.find(i)\n",
    "            if query[l-1] != \"'\" and query[l-1] != '\"': \n",
    "                query = str(query).replace(i, '\"' + i + '\"') \n",
    "\n",
    "    return(query)"
   ]
  },
  {
   "cell_type": "code",
   "execution_count": 59,
   "metadata": {},
   "outputs": [
    {
     "name": "stdout",
     "output_type": "stream",
     "text": [
      "SELECT COUNT(*) FROM chicago_crime WHERE \"Primary Type\" = 'ROBBERY';\n",
      "SELECT COUNT(*) FROM chicago_crime WHERE \"Primary Type\" = 'ROBBERY';\n",
      "SELECT COUNT(*) FROM chicago_crime WHERE 'Primary Type' = 'ROBBERY';\n"
     ]
    }
   ],
   "source": [
    "q1 =\"SELECT COUNT(*) FROM chicago_crime WHERE Primary Type = 'ROBBERY';\"\n",
    "q2 =\"SELECT COUNT(*) FROM chicago_crime WHERE \\\"Primary Type\\\" = 'ROBBERY';\"\n",
    "q3 =\"SELECT COUNT(*) FROM chicago_crime WHERE 'Primary Type' = 'ROBBERY';\"\n",
    "\n",
    "print(add_quotes(query = q1, col_names= prompt.column_names))\n",
    "print(add_quotes(query = q2, col_names= prompt.column_names))\n",
    "print(add_quotes(query = q3, col_names= prompt.column_names))"
   ]
  },
  {
   "cell_type": "code",
   "execution_count": 10,
   "metadata": {},
   "outputs": [
    {
     "ename": "NameError",
     "evalue": "name 'sql' is not defined",
     "output_type": "error",
     "traceback": [
      "\u001b[0;31m---------------------------------------------------------------------------\u001b[0m",
      "\u001b[0;31mNameError\u001b[0m                                 Traceback (most recent call last)",
      "\u001b[1;32m/workspaces/lang2sql/openai_poc.ipynb Cell 42\u001b[0m line \u001b[0;36m1\n\u001b[0;32m----> <a href='vscode-notebook-cell://dev-container%2B7b22686f737450617468223a222f55736572732f72616d696b72697370696e2f506572736f6e616c2f7475746f7269616c732f6c616e673273716c222c226c6f63616c446f636b6572223a66616c73652c2273657474696e6773223a7b22636f6e74657874223a2276657373656c227d2c22636f6e66696746696c65223a7b22246d6964223a312c22667350617468223a222f55736572732f72616d696b72697370696e2f506572736f6e616c2f7475746f7269616c732f6c616e673273716c2f2e646576636f6e7461696e65722f646576636f6e7461696e65722e6a736f6e222c2265787465726e616c223a2266696c653a2f2f2f55736572732f72616d696b72697370696e2f506572736f6e616c2f7475746f7269616c732f6c616e673273716c2f2e646576636f6e7461696e65722f646576636f6e7461696e65722e6a736f6e222c2270617468223a222f55736572732f72616d696b72697370696e2f506572736f6e616c2f7475746f7269616c732f6c616e673273716c2f2e646576636f6e7461696e65722f646576636f6e7461696e65722e6a736f6e222c22736368656d65223a2266696c65227d7d/workspaces/lang2sql/openai_poc.ipynb#X56sdnNjb2RlLXJlbW90ZQ%3D%3D?line=0'>1</a>\u001b[0m add_quotes(query \u001b[39m=\u001b[39m sql, col_names \u001b[39m=\u001b[39m prompt\u001b[39m.\u001b[39mcolumn_names)\n",
      "\u001b[0;31mNameError\u001b[0m: name 'sql' is not defined"
     ]
    }
   ],
   "source": [
    "add_quotes(query = sql, col_names = prompt.column_names)"
   ]
  },
  {
   "cell_type": "code",
   "execution_count": 11,
   "metadata": {},
   "outputs": [],
   "source": [
    "def lang2sql(api_key, table_name, query, model = \"gpt-3.5-turbo\", temperature = 0, max_tokens = 256, frequency_penalty = 0,presence_penalty= 0):\n",
    "    class response:\n",
    "        def __init__(output, message, response, sql):\n",
    "            output.message = message\n",
    "            output.response = response\n",
    "            output.sql = sql\n",
    "\n",
    "    openai.api_key = api_key\n",
    "\n",
    "    m = create_message(table_name = table_name, query = query)\n",
    "\n",
    "    message = [\n",
    "    {\n",
    "      \"role\": \"system\",\n",
    "      \"content\": m.system\n",
    "    },\n",
    "    {\n",
    "      \"role\": \"user\",\n",
    "      \"content\": m.user\n",
    "    }\n",
    "    ]\n",
    "    \n",
    "    openai_response = openai.ChatCompletion.create(\n",
    "        model = model,\n",
    "        messages = message,\n",
    "        temperature = temperature,\n",
    "        max_tokens = max_tokens,\n",
    "        frequency_penalty = frequency_penalty,\n",
    "        presence_penalty = presence_penalty)\n",
    "    \n",
    "    sql_query = add_quotes(query = openai_response[\"choices\"][0][\"message\"][\"content\"], col_names = m.column_names)\n",
    "\n",
    "    output = response(message = m, response = openai_response, sql = sql_query)\n",
    "\n",
    "    return output\n"
   ]
  },
  {
   "cell_type": "code",
   "execution_count": 13,
   "metadata": {},
   "outputs": [],
   "source": [
    "api_key = os.getenv('OPENAI_KEY')"
   ]
  },
  {
   "cell_type": "code",
   "execution_count": 62,
   "metadata": {},
   "outputs": [],
   "source": [
    "query = \"How many cases ended up with arrest?\"\n",
    "response = lang2sql(api_key = api_key, table_name = \"chicago_crime\", query = query)"
   ]
  },
  {
   "cell_type": "code",
   "execution_count": 63,
   "metadata": {},
   "outputs": [
    {
     "name": "stdout",
     "output_type": "stream",
     "text": [
      "<__main__.create_message.<locals>.message object at 0xffff6fe96920>\n",
      "SELECT COUNT(*) FROM chicago_crime WHERE \"Arrest\" = true;\n",
      "{\n",
      "  \"id\": \"chatcmpl-8QlD1rolEAv7sPtagPTiNjVGfxewS\",\n",
      "  \"object\": \"chat.completion\",\n",
      "  \"created\": 1701388691,\n",
      "  \"model\": \"gpt-3.5-turbo-0613\",\n",
      "  \"choices\": [\n",
      "    {\n",
      "      \"index\": 0,\n",
      "      \"message\": {\n",
      "        \"role\": \"assistant\",\n",
      "        \"content\": \"SELECT COUNT(*) FROM chicago_crime WHERE Arrest = true;\"\n",
      "      },\n",
      "      \"finish_reason\": \"stop\"\n",
      "    }\n",
      "  ],\n",
      "  \"usage\": {\n",
      "    \"prompt_tokens\": 137,\n",
      "    \"completion_tokens\": 12,\n",
      "    \"total_tokens\": 149\n",
      "  },\n",
      "  \"system_fingerprint\": null\n",
      "}\n"
     ]
    }
   ],
   "source": [
    "print(response.message)\n",
    "print(response.sql)\n",
    "print(response.response)\n",
    "\n"
   ]
  },
  {
   "cell_type": "code",
   "execution_count": 64,
   "metadata": {},
   "outputs": [
    {
     "name": "stdout",
     "output_type": "stream",
     "text": [
      "┌──────────────┐\n",
      "│ count_star() │\n",
      "│    int64     │\n",
      "├──────────────┤\n",
      "│        77635 │\n",
      "└──────────────┘\n",
      "\n"
     ]
    }
   ],
   "source": [
    "duckdb.sql(response.sql).show()"
   ]
  },
  {
   "cell_type": "code",
   "execution_count": 65,
   "metadata": {},
   "outputs": [
    {
     "name": "stdout",
     "output_type": "stream",
     "text": [
      "┌──────────────┐\n",
      "│ count_star() │\n",
      "│    int64     │\n",
      "├──────────────┤\n",
      "│        77635 │\n",
      "└──────────────┘\n",
      "\n"
     ]
    }
   ],
   "source": [
    "duckdb.sql(response.sql).show()"
   ]
  },
  {
   "cell_type": "code",
   "execution_count": 37,
   "metadata": {},
   "outputs": [
    {
     "name": "stdout",
     "output_type": "stream",
     "text": [
      "SELECT COUNT(*) FROM chicago_crime WHERE \"Arrest\" = TRUE AND \"Year\" = 2022;\n"
     ]
    }
   ],
   "source": [
    "query = \"How many cases ended up with arrest during 2022\"\n",
    "response = lang2sql(api_key = api_key, table_name = \"chicago_crime\", query = query)\n",
    "print(response.sql)"
   ]
  },
  {
   "cell_type": "code",
   "execution_count": 38,
   "metadata": {},
   "outputs": [
    {
     "name": "stdout",
     "output_type": "stream",
     "text": [
      "┌──────────────┐\n",
      "│ count_star() │\n",
      "│    int64     │\n",
      "├──────────────┤\n",
      "│        27805 │\n",
      "└──────────────┘\n",
      "\n"
     ]
    }
   ],
   "source": [
    "duckdb.sql(response.sql).show()"
   ]
  },
  {
   "cell_type": "code",
   "execution_count": 152,
   "metadata": {},
   "outputs": [
    {
     "name": "stdout",
     "output_type": "stream",
     "text": [
      "SELECT COUNT(*) FROM chicago_crime WHERE \"Arrest\" = TRUE AND \"Year\" BETWEEN 2022 AND 2023;\n",
      "┌──────────────┐\n",
      "│ count_star() │\n",
      "│    int64     │\n",
      "├──────────────┤\n",
      "│        51265 │\n",
      "└──────────────┘\n",
      "\n"
     ]
    }
   ],
   "source": [
    "\n",
    "\n",
    "query = \"How many cases ended up with arrest between 2022 and 2023?\"\n",
    "response = lang2sql(api_key = api_key, table_name = \"chicago_crime\", query = query)\n",
    "duckdb.sql(response.sql).show()"
   ]
  },
  {
   "cell_type": "code",
   "execution_count": 39,
   "metadata": {},
   "outputs": [
    {
     "name": "stdout",
     "output_type": "stream",
     "text": [
      "SELECT \"Primary Type\", COUNT(*) as TotalCases\n",
      "FROM chicago_crime\n",
      "GROUP BY \"Primary Type\"\n",
      "┌───────────────────────────────────┬────────────┐\n",
      "│           Primary Type            │ TotalCases │\n",
      "│              varchar              │   int64    │\n",
      "├───────────────────────────────────┼────────────┤\n",
      "│ MOTOR VEHICLE THEFT               │      54934 │\n",
      "│ ROBBERY                           │      25082 │\n",
      "│ WEAPONS VIOLATION                 │      24672 │\n",
      "│ INTERFERENCE WITH PUBLIC OFFICER  │       1161 │\n",
      "│ OBSCENITY                         │        127 │\n",
      "│ STALKING                          │       1206 │\n",
      "│ BATTERY                           │     115760 │\n",
      "│ OFFENSE INVOLVING CHILDREN        │       5177 │\n",
      "│ CRIMINAL TRESPASS                 │      11255 │\n",
      "│ PUBLIC PEACE VIOLATION            │       1980 │\n",
      "│    ·                              │         ·  │\n",
      "│    ·                              │         ·  │\n",
      "│    ·                              │         ·  │\n",
      "│ ASSAULT                           │      58685 │\n",
      "│ CRIMINAL DAMAGE                   │      75611 │\n",
      "│ DECEPTIVE PRACTICE                │      46377 │\n",
      "│ NARCOTICS                         │      13931 │\n",
      "│ BURGLARY                          │      19898 │\n",
      "│ INTIMIDATION                      │        499 │\n",
      "│ SEX OFFENSE                       │       3360 │\n",
      "│ PUBLIC INDECENCY                  │         12 │\n",
      "│ LIQUOR LAW VIOLATION              │        530 │\n",
      "│ CONCEALED CARRY LICENSE VIOLATION │        510 │\n",
      "├───────────────────────────────────┴────────────┤\n",
      "│ 31 rows (20 shown)                   2 columns │\n",
      "└────────────────────────────────────────────────┘\n",
      "\n"
     ]
    }
   ],
   "source": [
    "query = \"Summarize the cases by primary type\"\n",
    "response = lang2sql(api_key = api_key, table_name = \"chicago_crime\", query = query)\n",
    "\n",
    "print(response.sql)\n",
    "\n",
    "duckdb.sql(response.sql).show()"
   ]
  },
  {
   "cell_type": "code",
   "execution_count": 15,
   "metadata": {},
   "outputs": [
    {
     "name": "stdout",
     "output_type": "stream",
     "text": [
      "SELECT COUNT(*) FROM chicago_crime WHERE \"Primary Type\" = 'ROBBERY';\n",
      "┌──────────────┐\n",
      "│ count_star() │\n",
      "│    int64     │\n",
      "├──────────────┤\n",
      "│        25082 │\n",
      "└──────────────┘\n",
      "\n"
     ]
    }
   ],
   "source": [
    "query = \"How many cases is the type of robbery?\"\n",
    "response = lang2sql(api_key = api_key, table_name = \"chicago_crime\", query = query)\n",
    "\n",
    "print(response.sql)\n",
    "\n",
    "duckdb.sql(response.sql).show()"
   ]
  },
  {
   "cell_type": "code",
   "execution_count": 67,
   "metadata": {},
   "outputs": [
    {
     "name": "stdout",
     "output_type": "stream",
     "text": [
      "┌──────────────┐\n",
      "│ count_star() │\n",
      "│    int64     │\n",
      "├──────────────┤\n",
      "│        25082 │\n",
      "└──────────────┘\n",
      "\n"
     ]
    }
   ],
   "source": [
    "duckdb.sql(response.sql).show()"
   ]
  }
 ],
 "metadata": {
  "kernelspec": {
   "display_name": "lang2sql",
   "language": "python",
   "name": "python3"
  },
  "language_info": {
   "codemirror_mode": {
    "name": "ipython",
    "version": 3
   },
   "file_extension": ".py",
   "mimetype": "text/x-python",
   "name": "python",
   "nbconvert_exporter": "python",
   "pygments_lexer": "ipython3",
   "version": "3.10.13"
  }
 },
 "nbformat": 4,
 "nbformat_minor": 2
}
