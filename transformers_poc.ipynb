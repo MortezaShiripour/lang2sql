{
 "cells": [
  {
   "cell_type": "code",
   "execution_count": 1,
   "metadata": {},
   "outputs": [
    {
     "name": "stdout",
     "output_type": "stream",
     "text": [
      "'NoneType' object has no attribute 'cadam32bit_grad_fp32'\n"
     ]
    },
    {
     "name": "stderr",
     "output_type": "stream",
     "text": [
      "/opt/conda/envs/lang2sql/lib/python3.10/site-packages/bitsandbytes/cextension.py:34: UserWarning: The installed version of bitsandbytes was compiled without GPU support. 8-bit optimizers, 8-bit multiplication, and GPU quantization are unavailable.\n",
      "  warn(\"The installed version of bitsandbytes was compiled without GPU support. \"\n"
     ]
    }
   ],
   "source": [
    "import pandas as pd\n",
    "import duckdb\n",
    "import time \n",
    "import os\n",
    "import torch\n",
    "from transformers import AutoTokenizer, AutoModelForCausalLM, pipeline\n",
    "import accelerate\n",
    "import bitsandbytes"
   ]
  },
  {
   "cell_type": "code",
   "execution_count": 2,
   "metadata": {},
   "outputs": [],
   "source": [
    "token = os.getenv('HUGGING_FACE_TOKEN')"
   ]
  },
  {
   "cell_type": "code",
   "execution_count": 3,
   "metadata": {},
   "outputs": [
    {
     "name": "stdout",
     "output_type": "stream",
     "text": [
      "['chicago_crime_2022.csv', 'chicago_crime_2023.csv', 'chicago_crime_2021.csv']\n"
     ]
    }
   ],
   "source": [
    "path = \"./data_raw\"\n",
    "\n",
    "files = [x for x in os.listdir(path = path) if \".csv\" in x]\n",
    "\n",
    "print(files)"
   ]
  },
  {
   "cell_type": "code",
   "execution_count": 4,
   "metadata": {},
   "outputs": [
    {
     "data": {
      "text/html": [
       "<div>\n",
       "<style scoped>\n",
       "    .dataframe tbody tr th:only-of-type {\n",
       "        vertical-align: middle;\n",
       "    }\n",
       "\n",
       "    .dataframe tbody tr th {\n",
       "        vertical-align: top;\n",
       "    }\n",
       "\n",
       "    .dataframe thead th {\n",
       "        text-align: right;\n",
       "    }\n",
       "</style>\n",
       "<table border=\"1\" class=\"dataframe\">\n",
       "  <thead>\n",
       "    <tr style=\"text-align: right;\">\n",
       "      <th></th>\n",
       "      <th>ID</th>\n",
       "      <th>Case Number</th>\n",
       "      <th>Date</th>\n",
       "      <th>Block</th>\n",
       "      <th>IUCR</th>\n",
       "      <th>Primary Type</th>\n",
       "      <th>Description</th>\n",
       "      <th>Location Description</th>\n",
       "      <th>Arrest</th>\n",
       "      <th>Domestic</th>\n",
       "      <th>...</th>\n",
       "      <th>Ward</th>\n",
       "      <th>Community Area</th>\n",
       "      <th>FBI Code</th>\n",
       "      <th>X Coordinate</th>\n",
       "      <th>Y Coordinate</th>\n",
       "      <th>Year</th>\n",
       "      <th>Updated On</th>\n",
       "      <th>Latitude</th>\n",
       "      <th>Longitude</th>\n",
       "      <th>Location</th>\n",
       "    </tr>\n",
       "  </thead>\n",
       "  <tbody>\n",
       "    <tr>\n",
       "      <th>0</th>\n",
       "      <td>12589893</td>\n",
       "      <td>JF109865</td>\n",
       "      <td>01/11/2022 03:00:00 PM</td>\n",
       "      <td>087XX S KINGSTON AVE</td>\n",
       "      <td>1565</td>\n",
       "      <td>SEX OFFENSE</td>\n",
       "      <td>INDECENT SOLICITATION OF A CHILD</td>\n",
       "      <td>RESIDENCE</td>\n",
       "      <td>False</td>\n",
       "      <td>True</td>\n",
       "      <td>...</td>\n",
       "      <td>7.0</td>\n",
       "      <td>46</td>\n",
       "      <td>17</td>\n",
       "      <td>1194660.0</td>\n",
       "      <td>1847481.0</td>\n",
       "      <td>2022</td>\n",
       "      <td>09/14/2023 03:41:59 PM</td>\n",
       "      <td>41.736409</td>\n",
       "      <td>-87.562410</td>\n",
       "      <td>(41.736409029, -87.562410309)</td>\n",
       "    </tr>\n",
       "    <tr>\n",
       "      <th>1</th>\n",
       "      <td>12592454</td>\n",
       "      <td>JF113025</td>\n",
       "      <td>01/14/2022 03:55:00 PM</td>\n",
       "      <td>067XX S MORGAN ST</td>\n",
       "      <td>2826</td>\n",
       "      <td>OTHER OFFENSE</td>\n",
       "      <td>HARASSMENT BY ELECTRONIC MEANS</td>\n",
       "      <td>RESIDENCE</td>\n",
       "      <td>False</td>\n",
       "      <td>True</td>\n",
       "      <td>...</td>\n",
       "      <td>16.0</td>\n",
       "      <td>68</td>\n",
       "      <td>26</td>\n",
       "      <td>1170805.0</td>\n",
       "      <td>1860170.0</td>\n",
       "      <td>2022</td>\n",
       "      <td>09/14/2023 03:41:59 PM</td>\n",
       "      <td>41.771782</td>\n",
       "      <td>-87.649437</td>\n",
       "      <td>(41.771782439, -87.649436929)</td>\n",
       "    </tr>\n",
       "    <tr>\n",
       "      <th>2</th>\n",
       "      <td>12601676</td>\n",
       "      <td>JF124024</td>\n",
       "      <td>01/13/2022 04:00:00 PM</td>\n",
       "      <td>031XX W AUGUSTA BLVD</td>\n",
       "      <td>1752</td>\n",
       "      <td>OFFENSE INVOLVING CHILDREN</td>\n",
       "      <td>AGGRAVATED CRIMINAL SEXUAL ABUSE BY FAMILY MEMBER</td>\n",
       "      <td>RESIDENCE</td>\n",
       "      <td>False</td>\n",
       "      <td>True</td>\n",
       "      <td>...</td>\n",
       "      <td>36.0</td>\n",
       "      <td>23</td>\n",
       "      <td>17</td>\n",
       "      <td>1155171.0</td>\n",
       "      <td>1906486.0</td>\n",
       "      <td>2022</td>\n",
       "      <td>09/14/2023 03:41:59 PM</td>\n",
       "      <td>41.899206</td>\n",
       "      <td>-87.705506</td>\n",
       "      <td>(41.899206068, -87.705505587)</td>\n",
       "    </tr>\n",
       "    <tr>\n",
       "      <th>3</th>\n",
       "      <td>12785595</td>\n",
       "      <td>JF346553</td>\n",
       "      <td>08/05/2022 09:00:00 PM</td>\n",
       "      <td>072XX S UNIVERSITY AVE</td>\n",
       "      <td>1544</td>\n",
       "      <td>SEX OFFENSE</td>\n",
       "      <td>SEXUAL EXPLOITATION OF A CHILD</td>\n",
       "      <td>APARTMENT</td>\n",
       "      <td>True</td>\n",
       "      <td>False</td>\n",
       "      <td>...</td>\n",
       "      <td>5.0</td>\n",
       "      <td>69</td>\n",
       "      <td>17</td>\n",
       "      <td>1185135.0</td>\n",
       "      <td>1857211.0</td>\n",
       "      <td>2022</td>\n",
       "      <td>09/14/2023 03:41:59 PM</td>\n",
       "      <td>41.763338</td>\n",
       "      <td>-87.597001</td>\n",
       "      <td>(41.763337967, -87.597001131)</td>\n",
       "    </tr>\n",
       "    <tr>\n",
       "      <th>4</th>\n",
       "      <td>12808281</td>\n",
       "      <td>JF373517</td>\n",
       "      <td>08/14/2022 02:00:00 PM</td>\n",
       "      <td>055XX W ARDMORE AVE</td>\n",
       "      <td>1562</td>\n",
       "      <td>SEX OFFENSE</td>\n",
       "      <td>AGGRAVATED CRIMINAL SEXUAL ABUSE</td>\n",
       "      <td>RESIDENCE</td>\n",
       "      <td>False</td>\n",
       "      <td>False</td>\n",
       "      <td>...</td>\n",
       "      <td>39.0</td>\n",
       "      <td>11</td>\n",
       "      <td>17</td>\n",
       "      <td>1138383.0</td>\n",
       "      <td>1937953.0</td>\n",
       "      <td>2022</td>\n",
       "      <td>09/14/2023 03:41:59 PM</td>\n",
       "      <td>41.985875</td>\n",
       "      <td>-87.766404</td>\n",
       "      <td>(41.985875279, -87.766403857)</td>\n",
       "    </tr>\n",
       "    <tr>\n",
       "      <th>...</th>\n",
       "      <td>...</td>\n",
       "      <td>...</td>\n",
       "      <td>...</td>\n",
       "      <td>...</td>\n",
       "      <td>...</td>\n",
       "      <td>...</td>\n",
       "      <td>...</td>\n",
       "      <td>...</td>\n",
       "      <td>...</td>\n",
       "      <td>...</td>\n",
       "      <td>...</td>\n",
       "      <td>...</td>\n",
       "      <td>...</td>\n",
       "      <td>...</td>\n",
       "      <td>...</td>\n",
       "      <td>...</td>\n",
       "      <td>...</td>\n",
       "      <td>...</td>\n",
       "      <td>...</td>\n",
       "      <td>...</td>\n",
       "      <td>...</td>\n",
       "    </tr>\n",
       "    <tr>\n",
       "      <th>648826</th>\n",
       "      <td>26461</td>\n",
       "      <td>JE455267</td>\n",
       "      <td>11/24/2021 12:51:00 AM</td>\n",
       "      <td>107XX S LANGLEY AVE</td>\n",
       "      <td>0110</td>\n",
       "      <td>HOMICIDE</td>\n",
       "      <td>FIRST DEGREE MURDER</td>\n",
       "      <td>VACANT LOT</td>\n",
       "      <td>False</td>\n",
       "      <td>False</td>\n",
       "      <td>...</td>\n",
       "      <td>9.0</td>\n",
       "      <td>50</td>\n",
       "      <td>01A</td>\n",
       "      <td>1182822.0</td>\n",
       "      <td>1833730.0</td>\n",
       "      <td>2021</td>\n",
       "      <td>09/19/2022 03:41:05 PM</td>\n",
       "      <td>41.698957</td>\n",
       "      <td>-87.606206</td>\n",
       "      <td>(41.698957409, -87.606205674)</td>\n",
       "    </tr>\n",
       "    <tr>\n",
       "      <th>648827</th>\n",
       "      <td>26041</td>\n",
       "      <td>JE281927</td>\n",
       "      <td>06/28/2021 01:12:00 AM</td>\n",
       "      <td>117XX S LAFLIN ST</td>\n",
       "      <td>0110</td>\n",
       "      <td>HOMICIDE</td>\n",
       "      <td>FIRST DEGREE MURDER</td>\n",
       "      <td>AUTO</td>\n",
       "      <td>False</td>\n",
       "      <td>False</td>\n",
       "      <td>...</td>\n",
       "      <td>34.0</td>\n",
       "      <td>53</td>\n",
       "      <td>01A</td>\n",
       "      <td>1168442.0</td>\n",
       "      <td>1826982.0</td>\n",
       "      <td>2021</td>\n",
       "      <td>09/01/2022 03:42:17 PM</td>\n",
       "      <td>41.680761</td>\n",
       "      <td>-87.659052</td>\n",
       "      <td>(41.680760863, -87.659051873)</td>\n",
       "    </tr>\n",
       "    <tr>\n",
       "      <th>648828</th>\n",
       "      <td>26238</td>\n",
       "      <td>JE353715</td>\n",
       "      <td>08/29/2021 03:07:00 AM</td>\n",
       "      <td>010XX N LAWNDALE AVE</td>\n",
       "      <td>0110</td>\n",
       "      <td>HOMICIDE</td>\n",
       "      <td>FIRST DEGREE MURDER</td>\n",
       "      <td>STREET</td>\n",
       "      <td>False</td>\n",
       "      <td>False</td>\n",
       "      <td>...</td>\n",
       "      <td>27.0</td>\n",
       "      <td>23</td>\n",
       "      <td>01A</td>\n",
       "      <td>1151525.0</td>\n",
       "      <td>1906643.0</td>\n",
       "      <td>2021</td>\n",
       "      <td>09/19/2022 03:41:05 PM</td>\n",
       "      <td>41.899709</td>\n",
       "      <td>-87.718893</td>\n",
       "      <td>(41.899709327, -87.718893208)</td>\n",
       "    </tr>\n",
       "    <tr>\n",
       "      <th>648829</th>\n",
       "      <td>26479</td>\n",
       "      <td>JE465230</td>\n",
       "      <td>12/03/2021 08:37:00 PM</td>\n",
       "      <td>000XX W 78TH PL</td>\n",
       "      <td>0110</td>\n",
       "      <td>HOMICIDE</td>\n",
       "      <td>FIRST DEGREE MURDER</td>\n",
       "      <td>PORCH</td>\n",
       "      <td>True</td>\n",
       "      <td>False</td>\n",
       "      <td>...</td>\n",
       "      <td>6.0</td>\n",
       "      <td>69</td>\n",
       "      <td>01A</td>\n",
       "      <td>1177156.0</td>\n",
       "      <td>1852951.0</td>\n",
       "      <td>2021</td>\n",
       "      <td>09/01/2022 03:42:17 PM</td>\n",
       "      <td>41.751832</td>\n",
       "      <td>-87.626374</td>\n",
       "      <td>(41.751831742, -87.626373808)</td>\n",
       "    </tr>\n",
       "    <tr>\n",
       "      <th>648830</th>\n",
       "      <td>11138622</td>\n",
       "      <td>JA495186</td>\n",
       "      <td>05/21/2021 12:01:00 AM</td>\n",
       "      <td>019XX N PULASKI RD</td>\n",
       "      <td>1752</td>\n",
       "      <td>OFFENSE INVOLVING CHILDREN</td>\n",
       "      <td>AGGRAVATED CRIMINAL SEXUAL ABUSE BY FAMILY MEMBER</td>\n",
       "      <td>RESIDENCE</td>\n",
       "      <td>False</td>\n",
       "      <td>True</td>\n",
       "      <td>...</td>\n",
       "      <td>35.0</td>\n",
       "      <td>20</td>\n",
       "      <td>17</td>\n",
       "      <td>1149406.0</td>\n",
       "      <td>1912491.0</td>\n",
       "      <td>2021</td>\n",
       "      <td>09/07/2021 03:41:02 PM</td>\n",
       "      <td>41.915798</td>\n",
       "      <td>-87.726524</td>\n",
       "      <td>(41.915798196, -87.726524412)</td>\n",
       "    </tr>\n",
       "  </tbody>\n",
       "</table>\n",
       "<p>648831 rows × 22 columns</p>\n",
       "</div>"
      ],
      "text/plain": [
       "              ID Case Number                    Date                   Block   \n",
       "0       12589893    JF109865  01/11/2022 03:00:00 PM    087XX S KINGSTON AVE  \\\n",
       "1       12592454    JF113025  01/14/2022 03:55:00 PM       067XX S MORGAN ST   \n",
       "2       12601676    JF124024  01/13/2022 04:00:00 PM    031XX W AUGUSTA BLVD   \n",
       "3       12785595    JF346553  08/05/2022 09:00:00 PM  072XX S UNIVERSITY AVE   \n",
       "4       12808281    JF373517  08/14/2022 02:00:00 PM     055XX W ARDMORE AVE   \n",
       "...          ...         ...                     ...                     ...   \n",
       "648826     26461    JE455267  11/24/2021 12:51:00 AM     107XX S LANGLEY AVE   \n",
       "648827     26041    JE281927  06/28/2021 01:12:00 AM       117XX S LAFLIN ST   \n",
       "648828     26238    JE353715  08/29/2021 03:07:00 AM    010XX N LAWNDALE AVE   \n",
       "648829     26479    JE465230  12/03/2021 08:37:00 PM         000XX W 78TH PL   \n",
       "648830  11138622    JA495186  05/21/2021 12:01:00 AM      019XX N PULASKI RD   \n",
       "\n",
       "        IUCR                Primary Type   \n",
       "0       1565                 SEX OFFENSE  \\\n",
       "1       2826               OTHER OFFENSE   \n",
       "2       1752  OFFENSE INVOLVING CHILDREN   \n",
       "3       1544                 SEX OFFENSE   \n",
       "4       1562                 SEX OFFENSE   \n",
       "...      ...                         ...   \n",
       "648826  0110                    HOMICIDE   \n",
       "648827  0110                    HOMICIDE   \n",
       "648828  0110                    HOMICIDE   \n",
       "648829  0110                    HOMICIDE   \n",
       "648830  1752  OFFENSE INVOLVING CHILDREN   \n",
       "\n",
       "                                              Description   \n",
       "0                        INDECENT SOLICITATION OF A CHILD  \\\n",
       "1                          HARASSMENT BY ELECTRONIC MEANS   \n",
       "2       AGGRAVATED CRIMINAL SEXUAL ABUSE BY FAMILY MEMBER   \n",
       "3                          SEXUAL EXPLOITATION OF A CHILD   \n",
       "4                        AGGRAVATED CRIMINAL SEXUAL ABUSE   \n",
       "...                                                   ...   \n",
       "648826                                FIRST DEGREE MURDER   \n",
       "648827                                FIRST DEGREE MURDER   \n",
       "648828                                FIRST DEGREE MURDER   \n",
       "648829                                FIRST DEGREE MURDER   \n",
       "648830  AGGRAVATED CRIMINAL SEXUAL ABUSE BY FAMILY MEMBER   \n",
       "\n",
       "       Location Description  Arrest  Domestic  ...  Ward  Community Area   \n",
       "0                 RESIDENCE   False      True  ...   7.0              46  \\\n",
       "1                 RESIDENCE   False      True  ...  16.0              68   \n",
       "2                 RESIDENCE   False      True  ...  36.0              23   \n",
       "3                 APARTMENT    True     False  ...   5.0              69   \n",
       "4                 RESIDENCE   False     False  ...  39.0              11   \n",
       "...                     ...     ...       ...  ...   ...             ...   \n",
       "648826           VACANT LOT   False     False  ...   9.0              50   \n",
       "648827                 AUTO   False     False  ...  34.0              53   \n",
       "648828               STREET   False     False  ...  27.0              23   \n",
       "648829                PORCH    True     False  ...   6.0              69   \n",
       "648830            RESIDENCE   False      True  ...  35.0              20   \n",
       "\n",
       "        FBI Code  X Coordinate Y Coordinate  Year              Updated On   \n",
       "0             17     1194660.0    1847481.0  2022  09/14/2023 03:41:59 PM  \\\n",
       "1             26     1170805.0    1860170.0  2022  09/14/2023 03:41:59 PM   \n",
       "2             17     1155171.0    1906486.0  2022  09/14/2023 03:41:59 PM   \n",
       "3             17     1185135.0    1857211.0  2022  09/14/2023 03:41:59 PM   \n",
       "4             17     1138383.0    1937953.0  2022  09/14/2023 03:41:59 PM   \n",
       "...          ...           ...          ...   ...                     ...   \n",
       "648826       01A     1182822.0    1833730.0  2021  09/19/2022 03:41:05 PM   \n",
       "648827       01A     1168442.0    1826982.0  2021  09/01/2022 03:42:17 PM   \n",
       "648828       01A     1151525.0    1906643.0  2021  09/19/2022 03:41:05 PM   \n",
       "648829       01A     1177156.0    1852951.0  2021  09/01/2022 03:42:17 PM   \n",
       "648830        17     1149406.0    1912491.0  2021  09/07/2021 03:41:02 PM   \n",
       "\n",
       "         Latitude  Longitude                       Location  \n",
       "0       41.736409 -87.562410  (41.736409029, -87.562410309)  \n",
       "1       41.771782 -87.649437  (41.771782439, -87.649436929)  \n",
       "2       41.899206 -87.705506  (41.899206068, -87.705505587)  \n",
       "3       41.763338 -87.597001  (41.763337967, -87.597001131)  \n",
       "4       41.985875 -87.766404  (41.985875279, -87.766403857)  \n",
       "...           ...        ...                            ...  \n",
       "648826  41.698957 -87.606206  (41.698957409, -87.606205674)  \n",
       "648827  41.680761 -87.659052  (41.680760863, -87.659051873)  \n",
       "648828  41.899709 -87.718893  (41.899709327, -87.718893208)  \n",
       "648829  41.751832 -87.626374  (41.751831742, -87.626373808)  \n",
       "648830  41.915798 -87.726524  (41.915798196, -87.726524412)  \n",
       "\n",
       "[648831 rows x 22 columns]"
      ]
     },
     "execution_count": 4,
     "metadata": {},
     "output_type": "execute_result"
    }
   ],
   "source": [
    "chicago_crime = pd.concat((pd.read_csv(path +\"/\" + f) for f in files), ignore_index=True)\n",
    "\n",
    "chicago_crime"
   ]
  },
  {
   "cell_type": "code",
   "execution_count": 5,
   "metadata": {},
   "outputs": [],
   "source": [
    "def create_message(table_name, query):\n",
    "\n",
    "    class message:\n",
    "        def __init__(message, system, user, column_names, column_attr):\n",
    "            message.system = system\n",
    "            message.user = user\n",
    "            message.column_names = column_names\n",
    "            message.column_attr = column_attr\n",
    "\n",
    "    \n",
    "    system_template = \"\"\"\n",
    "\n",
    "    Given the following SQL table, your job is to write queries given a user’s request. \\n\n",
    "\n",
    "    CREATE TABLE {} ({}) \\n\n",
    "    \"\"\"\n",
    "\n",
    "    user_template = \"Write a SQL query that returns - {}\"\n",
    "    \n",
    "    tbl_describe = duckdb.sql(\"DESCRIBE SELECT * FROM \" + table_name +  \";\")\n",
    "    col_attr = tbl_describe.df()[[\"column_name\", \"column_type\"]]\n",
    "    col_attr[\"column_joint\"] = col_attr[\"column_name\"] + \" \" +  col_attr[\"column_type\"]\n",
    "    col_names = str(list(col_attr[\"column_joint\"].values)).replace('[', '').replace(']', '').replace('\\'', '')\n",
    "\n",
    "    system = system_template.format(table_name, col_names)\n",
    "    user = user_template.format(query)\n",
    "\n",
    "    m = message(system = system, user = user, column_names = col_attr[\"column_name\"], column_attr = col_attr[\"column_type\"])\n",
    "    return m\n",
    "\n",
    "def add_quotes(query, col_names):\n",
    "    for i in col_names:\n",
    "        if i in query:\n",
    "            query = str(query).replace(i, '\"' + i + '\"') \n",
    "    return(query)\n"
   ]
  },
  {
   "cell_type": "code",
   "execution_count": 6,
   "metadata": {},
   "outputs": [
    {
     "name": "stdout",
     "output_type": "stream",
     "text": [
      "\n",
      "\n",
      "    Given the following SQL table, your job is to write queries given a user’s request. \n",
      "\n",
      "\n",
      "    CREATE TABLE chicago_crime (ID BIGINT, Case Number VARCHAR, Date VARCHAR, Block VARCHAR, IUCR VARCHAR, Primary Type VARCHAR, Description VARCHAR, Location Description VARCHAR, Arrest BOOLEAN, Domestic BOOLEAN, Beat BIGINT, District BIGINT, Ward DOUBLE, Community Area BIGINT, FBI Code VARCHAR, X Coordinate DOUBLE, Y Coordinate DOUBLE, Year BIGINT, Updated On VARCHAR, Latitude DOUBLE, Longitude DOUBLE, Location VARCHAR) \n",
      "\n",
      "    \n",
      "Write a SQL query that returns - How many cases ended up with arrest?\n",
      "0                       ID\n",
      "1              Case Number\n",
      "2                     Date\n",
      "3                    Block\n",
      "4                     IUCR\n",
      "5             Primary Type\n",
      "6              Description\n",
      "7     Location Description\n",
      "8                   Arrest\n",
      "9                 Domestic\n",
      "10                    Beat\n",
      "11                District\n",
      "12                    Ward\n",
      "13          Community Area\n",
      "14                FBI Code\n",
      "15            X Coordinate\n",
      "16            Y Coordinate\n",
      "17                    Year\n",
      "18              Updated On\n",
      "19                Latitude\n",
      "20               Longitude\n",
      "21                Location\n",
      "Name: column_name, dtype: object\n",
      "0      BIGINT\n",
      "1     VARCHAR\n",
      "2     VARCHAR\n",
      "3     VARCHAR\n",
      "4     VARCHAR\n",
      "5     VARCHAR\n",
      "6     VARCHAR\n",
      "7     VARCHAR\n",
      "8     BOOLEAN\n",
      "9     BOOLEAN\n",
      "10     BIGINT\n",
      "11     BIGINT\n",
      "12     DOUBLE\n",
      "13     BIGINT\n",
      "14    VARCHAR\n",
      "15     DOUBLE\n",
      "16     DOUBLE\n",
      "17     BIGINT\n",
      "18    VARCHAR\n",
      "19     DOUBLE\n",
      "20     DOUBLE\n",
      "21    VARCHAR\n",
      "Name: column_type, dtype: object\n"
     ]
    }
   ],
   "source": [
    "query = \"How many cases ended up with arrest?\"\n",
    "msg = create_message(table_name = \"chicago_crime\", query = query)\n",
    "\n",
    "print(msg.system)\n",
    "print(msg.user)\n",
    "print(msg.column_names)\n",
    "print(msg.column_attr)"
   ]
  },
  {
   "cell_type": "code",
   "execution_count": 7,
   "metadata": {},
   "outputs": [
    {
     "name": "stdout",
     "output_type": "stream",
     "text": [
      "[{'role': 'system', 'content': '\\n\\n    Given the following SQL table, your job is to write queries given a user’s request. \\n\\n\\n    CREATE TABLE chicago_crime (ID BIGINT, Case Number VARCHAR, Date VARCHAR, Block VARCHAR, IUCR VARCHAR, Primary Type VARCHAR, Description VARCHAR, Location Description VARCHAR, Arrest BOOLEAN, Domestic BOOLEAN, Beat BIGINT, District BIGINT, Ward DOUBLE, Community Area BIGINT, FBI Code VARCHAR, X Coordinate DOUBLE, Y Coordinate DOUBLE, Year BIGINT, Updated On VARCHAR, Latitude DOUBLE, Longitude DOUBLE, Location VARCHAR) \\n\\n    '}, {'role': 'user', 'content': 'Write a SQL query that returns - How many cases ended up with arrest?'}]\n"
     ]
    }
   ],
   "source": [
    "m = create_message(table_name = \"chicago_crime\", query = query)\n",
    "\n",
    "messages = [\n",
    "    {\n",
    "      \"role\": \"system\",\n",
    "      \"content\": m.system\n",
    "    },\n",
    "    {\n",
    "      \"role\": \"user\",\n",
    "      \"content\": m.user\n",
    "    }\n",
    "    ]\n",
    "print(messages)"
   ]
  },
  {
   "cell_type": "code",
   "execution_count": 8,
   "metadata": {},
   "outputs": [
    {
     "data": {
      "application/vnd.jupyter.widget-view+json": {
       "model_id": "bd25f9d2a2514815bbac34e7f9fe3f70",
       "version_major": 2,
       "version_minor": 0
      },
      "text/plain": [
       "Loading checkpoint shards:   0%|          | 0/8 [00:00<?, ?it/s]"
      ]
     },
     "metadata": {},
     "output_type": "display_data"
    }
   ],
   "source": [
    "# Source: https://huggingface.co/HuggingFaceH4/zephyr-7b-alpha\n",
    "pipe = pipeline(\"text-generation\", \n",
    "                model=\"HuggingFaceH4/zephyr-7b-alpha\", \n",
    "                torch_dtype=torch.bfloat16, \n",
    "                device_map=\"auto\")"
   ]
  },
  {
   "cell_type": "code",
   "execution_count": 10,
   "metadata": {},
   "outputs": [],
   "source": [
    "prompt = pipe.tokenizer.apply_chat_template(messages, tokenize=False, add_generation_prompt=True)\n",
    "outputs = pipe(prompt, \n",
    "               max_new_tokens=256, \n",
    "               do_sample=True, \n",
    "               temperature=0.1, \n",
    "               top_k=1, \n",
    "               top_p=0.95)\n"
   ]
  },
  {
   "cell_type": "code",
   "execution_count": 12,
   "metadata": {},
   "outputs": [
    {
     "name": "stdout",
     "output_type": "stream",
     "text": [
      "<|system|>\n",
      "\n",
      "\n",
      "    Given the following SQL table, your job is to write queries given a user’s request. \n",
      "\n",
      "\n",
      "    CREATE TABLE chicago_crime (ID BIGINT, Case Number VARCHAR, Date VARCHAR, Block VARCHAR, IUCR VARCHAR, Primary Type VARCHAR, Description VARCHAR, Location Description VARCHAR, Arrest BOOLEAN, Domestic BOOLEAN, Beat BIGINT, District BIGINT, Ward DOUBLE, Community Area BIGINT, FBI Code VARCHAR, X Coordinate DOUBLE, Y Coordinate DOUBLE, Year BIGINT, Updated On VARCHAR, Latitude DOUBLE, Longitude DOUBLE, Location VARCHAR) \n",
      "\n",
      "    </s>\n",
      "<|user|>\n",
      "Write a SQL query that returns - How many cases ended up with arrest?</s>\n",
      "<|assistant|>\n",
      "SELECT COUNT(*)\n",
      "FROM chicago_crime\n",
      "WHERE Arrest = TRUE;\n",
      "\n",
      "This query uses the COUNT() function to count the number of rows that meet the condition Arrest = TRUE. The result will be the total number of cases that ended up with an arrest.\n"
     ]
    }
   ],
   "source": [
    "print(outputs[0][\"generated_text\"])"
   ]
  },
  {
   "cell_type": "code",
   "execution_count": 13,
   "metadata": {},
   "outputs": [
    {
     "name": "stdout",
     "output_type": "stream",
     "text": [
      "[{'generated_text': '<|system|>\\n\\n\\n    Given the following SQL table, your job is to write queries given a user’s request. \\n\\n\\n    CREATE TABLE chicago_crime (ID BIGINT, Case Number VARCHAR, Date VARCHAR, Block VARCHAR, IUCR VARCHAR, Primary Type VARCHAR, Description VARCHAR, Location Description VARCHAR, Arrest BOOLEAN, Domestic BOOLEAN, Beat BIGINT, District BIGINT, Ward DOUBLE, Community Area BIGINT, FBI Code VARCHAR, X Coordinate DOUBLE, Y Coordinate DOUBLE, Year BIGINT, Updated On VARCHAR, Latitude DOUBLE, Longitude DOUBLE, Location VARCHAR) \\n\\n    </s>\\n<|user|>\\nWrite a SQL query that returns - How many cases ended up with arrest?</s>\\n<|assistant|>\\nSELECT COUNT(*)\\nFROM chicago_crime\\nWHERE Arrest = TRUE;\\n\\nThis query uses the COUNT() function to count the number of rows that meet the condition Arrest = TRUE. The result will be the total number of cases that ended up with an arrest.'}]\n"
     ]
    }
   ],
   "source": [
    "print(outputs)"
   ]
  },
  {
   "cell_type": "code",
   "execution_count": 8,
   "metadata": {},
   "outputs": [
    {
     "data": {
      "application/vnd.jupyter.widget-view+json": {
       "model_id": "e71bd00e78af46ea8f7b18f5626e00b3",
       "version_major": 2,
       "version_minor": 0
      },
      "text/plain": [
       "Downloading (…)lve/main/config.json:   0%|          | 0.00/619 [00:00<?, ?B/s]"
      ]
     },
     "metadata": {},
     "output_type": "display_data"
    },
    {
     "data": {
      "application/vnd.jupyter.widget-view+json": {
       "model_id": "8e47b68759554d0e828604f650e34fa0",
       "version_major": 2,
       "version_minor": 0
      },
      "text/plain": [
       "Downloading (…)model.bin.index.json:   0%|          | 0.00/23.9k [00:00<?, ?B/s]"
      ]
     },
     "metadata": {},
     "output_type": "display_data"
    },
    {
     "data": {
      "application/vnd.jupyter.widget-view+json": {
       "model_id": "aee8cbe289864dc884291774c1251d54",
       "version_major": 2,
       "version_minor": 0
      },
      "text/plain": [
       "Downloading shards:   0%|          | 0/2 [00:00<?, ?it/s]"
      ]
     },
     "metadata": {},
     "output_type": "display_data"
    },
    {
     "data": {
      "application/vnd.jupyter.widget-view+json": {
       "model_id": "3610d50141214163ba2e6019f1ccb47c",
       "version_major": 2,
       "version_minor": 0
      },
      "text/plain": [
       "Downloading (…)l-00001-of-00002.bin:   0%|          | 0.00/9.94G [00:00<?, ?B/s]"
      ]
     },
     "metadata": {},
     "output_type": "display_data"
    },
    {
     "data": {
      "application/vnd.jupyter.widget-view+json": {
       "model_id": "d633f14836d642018e2392b584ce0c46",
       "version_major": 2,
       "version_minor": 0
      },
      "text/plain": [
       "Downloading (…)l-00002-of-00002.bin:   0%|          | 0.00/4.54G [00:00<?, ?B/s]"
      ]
     },
     "metadata": {},
     "output_type": "display_data"
    },
    {
     "ename": "",
     "evalue": "",
     "output_type": "error",
     "traceback": [
      "\u001b[1;31mThe Kernel crashed while executing code in the the current cell or a previous cell. Please review the code in the cell(s) to identify a possible cause of the failure. Click <a href='https://aka.ms/vscodeJupyterKernelCrash'>here</a> for more info. View Jupyter <a href='command:jupyter.viewOutput'>log</a> for further details."
     ]
    }
   ],
   "source": [
    "# pipe = pipeline(\"text-generation\", \n",
    "#                 model=\"HuggingFaceH4/zephyr-7b-alpha\", \n",
    "#                 torch_dtype=torch.bfloat16, \n",
    "#                 device_map=\"auto\")\n",
    "\n",
    "\n",
    "pipe = pipeline(\"text-generation\", model=\"defog/sqlcoder-7b\")"
   ]
  },
  {
   "cell_type": "code",
   "execution_count": null,
   "metadata": {},
   "outputs": [],
   "source": [
    "outputs = pipe(prompt, max_new_tokens=256, do_sample=True, temperature=0.1, top_k=50, top_p=0.95)"
   ]
  },
  {
   "cell_type": "code",
   "execution_count": null,
   "metadata": {},
   "outputs": [],
   "source": [
    "# https://colab.research.google.com/drive/13BIKsqHnPOBcQ-ba2p77L5saiepTIwu0#scrollTo=8bAMjQKJfG3d\n",
    "\n",
    "model_name = \"defog/sqlcoder\"\n",
    "tokenizer = AutoTokenizer.from_pretrained(model_name)\n",
    "model = AutoModelForCausalLM.from_pretrained(\n",
    "    model_name,\n",
    "    trust_remote_code=True,\n",
    "    load_in_4bit=True,\n",
    "    device_map=\"auto\",\n",
    "    use_cache=True,\n",
    ")"
   ]
  }
 ],
 "metadata": {
  "kernelspec": {
   "display_name": "lang2sql",
   "language": "python",
   "name": "python3"
  },
  "language_info": {
   "codemirror_mode": {
    "name": "ipython",
    "version": 3
   },
   "file_extension": ".py",
   "mimetype": "text/x-python",
   "name": "python",
   "nbconvert_exporter": "python",
   "pygments_lexer": "ipython3",
   "version": "3.10.13"
  }
 },
 "nbformat": 4,
 "nbformat_minor": 2
}
